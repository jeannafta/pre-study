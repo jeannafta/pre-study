{
 "cells": [
  {
   "cell_type": "markdown",
   "id": "7fb83b7f-8800-4de8-9ecd-38499f70cfa3",
   "metadata": {},
   "source": [
    "## Solve 1D diffusion-advection equation in transient state"
   ]
  },
  {
   "cell_type": "code",
   "execution_count": 1,
   "id": "299289e4-c3ad-4fc3-b516-a7b369020a03",
   "metadata": {},
   "outputs": [],
   "source": [
    "import numpy as np\n",
    "from mpi4py import MPI\n",
    "import pyvista\n",
    "import ufl\n",
    "\n",
    "from ufl import Measure\n",
    "\n",
    "import dolfinx\n",
    "from dolfinx import fem, plot\n",
    "from dolfinx.io import XDMFFile\n",
    "from dolfinx.fem import FunctionSpace, Constant, Function\n",
    "\n",
    "from petsc4py import PETSc\n",
    "from petsc4py.PETSc import ScalarType"
   ]
  },
  {
   "cell_type": "markdown",
   "id": "563b6f51-f169-4794-92df-d6e01ba2ea3e",
   "metadata": {},
   "source": [
    "## Read the mesh"
   ]
  },
  {
   "cell_type": "code",
   "execution_count": 2,
   "id": "76a5f79c-2824-4535-82c2-acd7782f1f4d",
   "metadata": {},
   "outputs": [],
   "source": [
    "# Read the mesh\n",
    "with XDMFFile(MPI.COMM_WORLD, \"mesh_rectangle/linear/rectangle_mesh.xdmf\", \"r\") as xdmf:\n",
    "    mesh = xdmf.read_mesh(name=\"Grid\")\n",
    "    cell_tags = xdmf.read_meshtags(mesh, name=\"Grid\")\n",
    "mesh.topology.create_connectivity(mesh.topology.dim-1, mesh.topology.dim)\n",
    "\n",
    "with XDMFFile(MPI.COMM_WORLD, \"mesh_rectangle/linear/rectangle_facet_mesh.xdmf\", \"r\") as xdmf:\n",
    "    facet_tags = xdmf.read_meshtags(mesh, name=\"Grid\")"
   ]
  },
  {
   "cell_type": "markdown",
   "id": "9979c6ab-f269-42b9-b339-5d9881bd49d2",
   "metadata": {},
   "source": [
    "## Define temporal parameters"
   ]
  },
  {
   "cell_type": "code",
   "execution_count": 3,
   "id": "6f46087b-310b-47e2-bb13-ed904d05850a",
   "metadata": {},
   "outputs": [],
   "source": [
    "t = 0 # Start time\n",
    "T = 1200 # 2. # Final time 1\n",
    "num_steps = 120\n",
    "dt = T / num_steps # time step size\n",
    "\n",
    "TL = 5 # initial temperature and temperature on the right hand side\n",
    "TI = 10 # fixed temperature on the left"
   ]
  },
  {
   "cell_type": "markdown",
   "id": "a88897c1-6353-4db7-9432-d46131d747f4",
   "metadata": {},
   "source": [
    "## Finite element function space"
   ]
  },
  {
   "cell_type": "code",
   "execution_count": 4,
   "id": "404ee2b5-d840-4ed2-8fde-72398f04b9bb",
   "metadata": {},
   "outputs": [],
   "source": [
    "V = FunctionSpace(mesh, (\"CG\", 1))  # Lagrange element and and linear elements (degree 1)"
   ]
  },
  {
   "cell_type": "markdown",
   "id": "2871b869-d362-4992-ac1f-90ef98b06ea3",
   "metadata": {},
   "source": [
    "## Set initial conditions"
   ]
  },
  {
   "cell_type": "code",
   "execution_count": 5,
   "id": "a1a4fdff-52f7-4927-8223-0a3fff9ea1df",
   "metadata": {},
   "outputs": [],
   "source": [
    "T_n = Function(V)\n",
    "T_n.name = \"p_n\"\n",
    "T_n.x.array[:] = np.full(len(T_n.x.array), TL)"
   ]
  },
  {
   "cell_type": "markdown",
   "id": "92f087c5-e95f-42e9-a9d3-ecf634552673",
   "metadata": {},
   "source": [
    "## Boundary conditions"
   ]
  },
  {
   "cell_type": "code",
   "execution_count": 6,
   "id": "cc9d5fd1-6c8e-498d-8c07-fc1b151e236d",
   "metadata": {},
   "outputs": [],
   "source": [
    "# DIRICHLET: T=TL on side 4\n",
    "boundary_dofs = fem.locate_dofs_topological(V, mesh.topology.dim-1, facet_tags.indices[facet_tags.values == 4])\n",
    "bc_right = fem.dirichletbc(ScalarType(TL), boundary_dofs, V)\n",
    "# T=TI on side 3\n",
    "boundary_dofs = fem.locate_dofs_topological(V, mesh.topology.dim-1, facet_tags.indices[facet_tags.values == 3])\n",
    "bc_left = fem.dirichletbc(ScalarType(TI), boundary_dofs, V)\n",
    "\n",
    "bc_tot = [bc_left, bc_right]\n",
    "\n",
    "# NEUMANN: dp/dn=-4 on the left side (side 3)\n",
    "# here we only want to integrate on the left side so we can create a custom integration measure ds which only integrates over facets marked with value i\n",
    "#ds = Measure(\"ds\", domain=mesh, subdomain_data=facet_tags)\n",
    "#g = -1"
   ]
  },
  {
   "cell_type": "markdown",
   "id": "28a9994f-5431-4bf1-8a16-e5185129cd18",
   "metadata": {},
   "source": [
    "## Time-dependent output"
   ]
  },
  {
   "cell_type": "code",
   "execution_count": 7,
   "id": "5f3c9ebc-97a0-4af0-a1b8-dc4281cc2c06",
   "metadata": {},
   "outputs": [],
   "source": [
    "T_h = T_n.copy()\n",
    "T_h.name = \"T_h\""
   ]
  },
  {
   "cell_type": "markdown",
   "id": "18a87608-3b12-42e3-b09c-72f0153acbe1",
   "metadata": {},
   "source": [
    "## Trial and test functions"
   ]
  },
  {
   "cell_type": "code",
   "execution_count": 8,
   "id": "c99cfe79-a2c7-4441-978a-75688bd70b95",
   "metadata": {},
   "outputs": [],
   "source": [
    "T, r = ufl.TrialFunction(V), ufl.TestFunction(V)"
   ]
  },
  {
   "cell_type": "markdown",
   "id": "7fe75643-1d0c-4826-9ff2-8b4cd32dcdbc",
   "metadata": {},
   "source": [
    "## Source term"
   ]
  },
  {
   "cell_type": "code",
   "execution_count": 9,
   "id": "6d51f935-1889-41b9-a092-7f662693e767",
   "metadata": {},
   "outputs": [],
   "source": [
    "# here f=0 as there is no source term\n",
    "f = fem.Constant(mesh, ScalarType(0))"
   ]
  },
  {
   "cell_type": "markdown",
   "id": "df169d6c-d109-4d94-be56-75682dc27abc",
   "metadata": {},
   "source": [
    "## Variational problem"
   ]
  },
  {
   "cell_type": "code",
   "execution_count": 10,
   "id": "4f29939e-de08-4f3a-9482-b2c79f48cfc1",
   "metadata": {},
   "outputs": [],
   "source": [
    "# physical properties\n",
    "rho = 1\n",
    "c = 1\n",
    "rho_w = 1\n",
    "c_w = 1\n",
    "cond = 1e-5 # 0.1 for diffusion # 1e-5 for advection"
   ]
  },
  {
   "cell_type": "code",
   "execution_count": 11,
   "id": "6caa3729-57e0-41b6-af50-59dd1ace3bfa",
   "metadata": {},
   "outputs": [],
   "source": [
    "# fluid flow \n",
    "q = Constant(mesh, ScalarType((0.01, 0))) #0.01. # avec qx=5 tout joue bien car la diffusion domine. Mais si on choisit qx=40 l'advection domine et c'est instable."
   ]
  },
  {
   "cell_type": "code",
   "execution_count": 12,
   "id": "c62405fd-4c9c-490c-ad82-87b374998a06",
   "metadata": {},
   "outputs": [],
   "source": [
    "#a = ufl.dot(ufl.grad(T), ufl.grad(r)) * ufl.dx + ufl.dot(q, ufl.grad(T)) * r * ufl.dx\n",
    "#L = f * r * ufl.dx - g * r * ds(3)\n",
    "\n",
    "# pour le moment on peut définir a et L comme ci-dessus, ou similairement comme ci-dessous. Mais pour la suite (implémentation de SUPG) il faudra utiliser exclusivement la forme ci-dessous car \n",
    "# on va ajouter une intégrale dont un des termes, le résidu res, contient à la fois des termes linéaires et non-linéaires (des termes avec T et des termes sans). C'est donc plus simple que fenics\n",
    "# détermine automatiquement quels termes sont linéaires et lesquels sont bilinéaires.\n",
    "# on définit donc F = a-L et c'est ensuite fenics qui retrouvera a et L.\n",
    "\n",
    "F = T * r * ufl.dx + dt * cond/(rho*c) * ufl.dot(ufl.grad(T), ufl.grad(r)) * ufl.dx + dt * (rho_w*c_w)/(rho*c) * ufl.dot(q, ufl.grad(T)) * r * ufl.dx \\\n",
    "    - (T_n * r * ufl.dx + dt * f * r * ufl.dx) # - dt * cond/(rho*c) * g * r * ds(3))"
   ]
  },
  {
   "cell_type": "code",
   "execution_count": 13,
   "id": "bc49da32-fdd7-483a-839c-6aa6b6d40c55",
   "metadata": {},
   "outputs": [],
   "source": [
    "# add SUPG\n",
    "tdim = mesh.topology.dim\n",
    "num_cells = mesh.topology.index_map(tdim).size_local\n",
    "h = dolfinx.cpp.mesh.h(mesh, tdim, range(num_cells))\n",
    "h_av = np.mean(h)\n",
    "\n",
    "# res =  T - T_n + dt*(ufl.dot(q, ufl.grad(T)) - ufl.div(ufl.grad(T)) - f)\n",
    "res =  T - T_n + dt*((rho_w*c_w)/(rho*c)*ufl.dot(q, ufl.grad(T)) - cond/(rho*c)*ufl.div(ufl.grad(T)) - f)\n",
    "\n",
    "qnorm = ufl.sqrt(ufl.dot(q, q))\n",
    "tau = h_av/(2*qnorm)  #2\n",
    "\n",
    "F += tau * ufl.dot(q, ufl.grad(r)) * res * ufl.dx"
   ]
  },
  {
   "cell_type": "code",
   "execution_count": 14,
   "id": "8e8354f0-2c1c-4451-bd4a-79e390dbc183",
   "metadata": {},
   "outputs": [],
   "source": [
    "a = ufl.lhs(F)\n",
    "L = ufl.rhs(F)"
   ]
  },
  {
   "cell_type": "markdown",
   "id": "ea15d1c1-837e-480f-bf52-27d9dae5d67d",
   "metadata": {},
   "source": [
    "## Preparation of linear algebra structures for time dependent problems"
   ]
  },
  {
   "cell_type": "code",
   "execution_count": 15,
   "id": "50e3aab3-e61e-42b6-9fca-5af5aa5873c1",
   "metadata": {},
   "outputs": [],
   "source": [
    "bilinear_form = fem.form(a)\n",
    "linear_form = fem.form(L)"
   ]
  },
  {
   "cell_type": "code",
   "execution_count": 16,
   "id": "a6d3953f-83f7-4263-87cc-699e5b26a1b5",
   "metadata": {},
   "outputs": [],
   "source": [
    "# bilinear_form (a) isn't time dependant so we can assemble it once (we could do the same for the integral of the Neumann term as the flux is contant, but for now let's stay like that)\n",
    "A = fem.petsc.assemble_matrix(bilinear_form, bcs=bc_tot)\n",
    "A.assemble()\n",
    "b = fem.petsc.create_vector(linear_form)"
   ]
  },
  {
   "cell_type": "markdown",
   "id": "2b72778d-be78-4e5b-9fbc-22c15e49e780",
   "metadata": {},
   "source": [
    "## Linear solver"
   ]
  },
  {
   "cell_type": "code",
   "execution_count": 17,
   "id": "59bba1ca-1854-40ae-acf1-672435eb2f87",
   "metadata": {},
   "outputs": [],
   "source": [
    "# here matrix A is already assembled so we don't need to use petsc.LinearProblem like in tuto1\n",
    "solver = PETSc.KSP().create(mesh.comm)\n",
    "solver.setOperators(A)\n",
    "solver.setType(PETSc.KSP.Type.PREONLY)\n",
    "solver.getPC().setType(PETSc.PC.Type.LU)"
   ]
  },
  {
   "cell_type": "code",
   "execution_count": 18,
   "id": "f46645be-4bb5-48ac-bb13-728b48f0c997",
   "metadata": {},
   "outputs": [
    {
     "data": {
      "application/vnd.jupyter.widget-view+json": {
       "model_id": "af53015a6e614f6abf21e6ac76030ae6",
       "version_major": 2,
       "version_minor": 0
      },
      "text/plain": [
       "AppLayout(children=(VBox(children=(HTML(value='<h3>u(0)</h3>'), Dropdown(description='Colormap:', options={'Br…"
      ]
     },
     "metadata": {},
     "output_type": "display_data"
    }
   ],
   "source": [
    "import pyvista\n",
    "pyvista.set_jupyter_backend(\"ipygany\")\n",
    "\n",
    "grid = pyvista.UnstructuredGrid(*plot.create_vtk_mesh(V))\n",
    "\n",
    "def plot_function(t, uh):\n",
    "    \"\"\"\n",
    "    Create a figure of the concentration uh warped visualized in 3D at timet step t.\n",
    "    \"\"\"\n",
    "    p = pyvista.Plotter()\n",
    "    # Update point values on pyvista grid\n",
    "    grid.point_data[f\"u({t})\"] = uh.x.array.real\n",
    "    # Warp mesh by point values\n",
    "    warped = grid.warp_by_scalar(f\"u({t})\", factor=1.5)\n",
    "\n",
    "    # Add mesh to plotter and visualize in notebook or save as figure\n",
    "    actor = p.add_mesh(warped)\n",
    "    if not pyvista.OFF_SCREEN:\n",
    "        p.show()\n",
    "    else:\n",
    "        pyvista.start_xvfb()\n",
    "        figure_as_array = p.screenshot(f\"diffusion_{t:.2f}.png\")\n",
    "        # Clear plotter for next plot\n",
    "        p.remove_actor(actor)\n",
    "plot_function(0, T_h)"
   ]
  },
  {
   "cell_type": "code",
   "execution_count": 19,
   "id": "679f42f1-6c49-47b0-83f7-a8a510c909a1",
   "metadata": {},
   "outputs": [
    {
     "data": {
      "application/vnd.jupyter.widget-view+json": {
       "model_id": "9d031bc021a04e009f39c7e0adc961ee",
       "version_major": 2,
       "version_minor": 0
      },
      "text/plain": [
       "AppLayout(children=(VBox(children=(HTML(value='<h3>u(10.0)</h3>'), Dropdown(description='Colormap:', options={…"
      ]
     },
     "metadata": {},
     "output_type": "display_data"
    },
    {
     "data": {
      "application/vnd.jupyter.widget-view+json": {
       "model_id": "1692eff74cef4fdd8c5953c06f9bd251",
       "version_major": 2,
       "version_minor": 0
      },
      "text/plain": [
       "AppLayout(children=(VBox(children=(HTML(value='<h3>u(160.0)</h3>'), Dropdown(description='Colormap:', options=…"
      ]
     },
     "metadata": {},
     "output_type": "display_data"
    },
    {
     "data": {
      "application/vnd.jupyter.widget-view+json": {
       "model_id": "f034980b420f4d479ee405a08356660f",
       "version_major": 2,
       "version_minor": 0
      },
      "text/plain": [
       "AppLayout(children=(VBox(children=(HTML(value='<h3>u(310.0)</h3>'), Dropdown(description='Colormap:', options=…"
      ]
     },
     "metadata": {},
     "output_type": "display_data"
    },
    {
     "data": {
      "application/vnd.jupyter.widget-view+json": {
       "model_id": "672824368ac847b2a64a916e810ad297",
       "version_major": 2,
       "version_minor": 0
      },
      "text/plain": [
       "AppLayout(children=(VBox(children=(HTML(value='<h3>u(460.0)</h3>'), Dropdown(description='Colormap:', options=…"
      ]
     },
     "metadata": {},
     "output_type": "display_data"
    },
    {
     "data": {
      "application/vnd.jupyter.widget-view+json": {
       "model_id": "950d09cb93e64c84a525141a76772172",
       "version_major": 2,
       "version_minor": 0
      },
      "text/plain": [
       "AppLayout(children=(VBox(children=(HTML(value='<h3>u(610.0)</h3>'), Dropdown(description='Colormap:', options=…"
      ]
     },
     "metadata": {},
     "output_type": "display_data"
    },
    {
     "data": {
      "application/vnd.jupyter.widget-view+json": {
       "model_id": "f6bbc1e6dcff436780dec99492f35ab5",
       "version_major": 2,
       "version_minor": 0
      },
      "text/plain": [
       "AppLayout(children=(VBox(children=(HTML(value='<h3>u(760.0)</h3>'), Dropdown(description='Colormap:', options=…"
      ]
     },
     "metadata": {},
     "output_type": "display_data"
    },
    {
     "data": {
      "application/vnd.jupyter.widget-view+json": {
       "model_id": "67ad3a815c624e69b7296e1c36900117",
       "version_major": 2,
       "version_minor": 0
      },
      "text/plain": [
       "AppLayout(children=(VBox(children=(HTML(value='<h3>u(910.0)</h3>'), Dropdown(description='Colormap:', options=…"
      ]
     },
     "metadata": {},
     "output_type": "display_data"
    },
    {
     "data": {
      "application/vnd.jupyter.widget-view+json": {
       "model_id": "856abd9f7ce84f56a69117a013d1d4f6",
       "version_major": 2,
       "version_minor": 0
      },
      "text/plain": [
       "AppLayout(children=(VBox(children=(HTML(value='<h3>u(1060.0)</h3>'), Dropdown(description='Colormap:', options…"
      ]
     },
     "metadata": {},
     "output_type": "display_data"
    }
   ],
   "source": [
    "T_bottom_vec = [] # for saving\n",
    "for i in range(num_steps):\n",
    "    t += dt\n",
    "\n",
    "    # Update the right hand side reusing the initial vector\n",
    "    with b.localForm() as loc_b:\n",
    "        loc_b.set(0)\n",
    "    fem.petsc.assemble_vector(b, linear_form)\n",
    "    \n",
    "    # Apply Dirichlet boundary condition to the vector\n",
    "    fem.petsc.apply_lifting(b, [bilinear_form], [bc_tot])\n",
    "    b.ghostUpdate(addv=PETSc.InsertMode.ADD_VALUES, mode=PETSc.ScatterMode.REVERSE)\n",
    "    fem.petsc.set_bc(b, bc_tot)\n",
    "\n",
    "    # Solve linear problem\n",
    "    solver.solve(b, T_h.vector)\n",
    "    T_h.x.scatter_forward()\n",
    "\n",
    "    # Update solution at previous time step (u_n)\n",
    "    T_n.x.array[:] = T_h.x.array\n",
    "\n",
    "    # Plot every 15th time step\n",
    "    if i % 15 == 0:\n",
    "        plot_function(t, T_h)\n",
    "        \n",
    "        \n",
    "    #if t == 10 or t == 100 or t == 300 or t == 1000:  # for diffusion plot\n",
    "    #if t == 100 or t == 300 or t == 500 or t == 1000:  # for advection plot\n",
    "    if t == 100 or t == 300 or t == 500 or t == 1200:  # for SUPG plot\n",
    "        # also save the values\n",
    "        T_bottom_vec.append(T_h.x.array[mesh.geometry.x[:,1]==0])"
   ]
  },
  {
   "cell_type": "markdown",
   "id": "c6d053bc-571f-4d74-8588-c7844ef89c25",
   "metadata": {},
   "source": [
    "## Compute Péclet number "
   ]
  },
  {
   "cell_type": "code",
   "execution_count": 20,
   "id": "3da7d444-31f2-48f6-9ade-e2d4b9b01403",
   "metadata": {},
   "outputs": [
    {
     "data": {
      "text/plain": [
       "202.96259515966432"
      ]
     },
     "execution_count": 20,
     "metadata": {},
     "output_type": "execute_result"
    }
   ],
   "source": [
    "tdim = mesh.topology.dim\n",
    "num_cells = mesh.topology.index_map(tdim).size_local\n",
    "h = dolfinx.cpp.mesh.h(mesh, tdim, range(num_cells))\n",
    "h_av = np.mean(h)\n",
    "Pe = rho_w*c_w*q.value[0]*h_av/cond\n",
    "Pe"
   ]
  },
  {
   "cell_type": "markdown",
   "id": "e2f54996-b55a-4b5c-bee8-802657a31273",
   "metadata": {},
   "source": [
    "## Post-processing"
   ]
  },
  {
   "cell_type": "code",
   "execution_count": 21,
   "id": "d4734aad-a8aa-4c2c-a310-1ce8bb27344a",
   "metadata": {},
   "outputs": [],
   "source": [
    "import matplotlib.pyplot as plt"
   ]
  },
  {
   "cell_type": "code",
   "execution_count": 22,
   "id": "d19628c0-8481-402f-a565-7af7ac06e962",
   "metadata": {},
   "outputs": [],
   "source": [
    "# analytical solution for a 1D diffusion in steady state\n",
    "def T_analytical(x):\n",
    "    return [TI]*len(x)"
   ]
  },
  {
   "cell_type": "code",
   "execution_count": 23,
   "id": "89ef43ef-377f-4d90-8a92-cee62b1dce09",
   "metadata": {},
   "outputs": [
    {
     "data": {
      "text/plain": [
       "4"
      ]
     },
     "execution_count": 23,
     "metadata": {},
     "output_type": "execute_result"
    }
   ],
   "source": [
    "# look for the temperature on L_bottom\n",
    "x_bottom = mesh.geometry.x[mesh.geometry.x[:,1]==0][:,0]\n",
    "#T_bottom = T_h.x.array[mesh.geometry.x[:,1]==0]\n",
    "# sort these temperatures according to the radial distance from point A \n",
    "index_order = np.argsort(x_bottom)\n",
    "x_numerical = x_bottom[index_order]\n",
    "for ind, T_bottom in enumerate(T_bottom_vec):\n",
    "    T_bottom_vec[ind] = T_bottom[index_order]\n",
    "len(T_bottom_vec)"
   ]
  },
  {
   "cell_type": "code",
   "execution_count": 24,
   "id": "db72fa00-f279-48c1-a8b1-39cff65d6b7c",
   "metadata": {},
   "outputs": [
    {
     "data": {
      "image/png": "[encoded data removed]",
      "text/plain": [
       "<Figure size 576x432 with 1 Axes>"
      ]
     },
     "metadata": {
      "needs_background": "light"
     },
     "output_type": "display_data"
    }
   ],
   "source": [
    "# plot with matplotlib\n",
    "\n",
    "# x axis for analytical solution\n",
    "x = np.arange(0., 10., 0.01)\n",
    "\n",
    "# plot\n",
    "plt.figure(figsize=(8, 6))\n",
    "#plt.plot(x, T_analytical(x), 'r-')\n",
    "for ind, T_bottom in enumerate(T_bottom_vec):\n",
    "    plt.plot(x_numerical, T_bottom, '-')\n",
    "#plt.legend(['Numerical t = 10s', 'Numerical t = 100s', 'Numerical t = 300', 'Numerical t = 1000s'], loc='upper right', fontsize = 15) # for diffusion plot\n",
    "#plt.legend(['Numerical t = 100s', 'Numerical t = 300s', 'Numerical t = 500', 'Numerical t = 1000s'], loc='top left', fontsize = 15) # for advection plot\n",
    "#plt.legend(['Numerical t = 100s', 'Numerical t = 300s', 'Numerical t = 500', 'Numerical t = 1200s'], loc='upper left', fontsize = 15) # for SUPG plot\n",
    "plt.legend(['Numerical t = 100s', 'Numerical t = 300s', 'Numerical t = 500', 'Numerical t = 1200s'], loc='right', fontsize = 15) # for SUPG plot\n",
    "plt.xticks(fontsize=15)\n",
    "plt.yticks(fontsize=15)\n",
    "plt.xlabel('x [m]', fontsize=15)\n",
    "plt.ylabel('Temperature [K]', fontsize=15) \n",
    "plt.savefig(\"advection_injection.png\", )\n",
    "plt.show()"
   ]
  },
  {
   "cell_type": "code",
   "execution_count": null,
   "id": "fad72c5a-a269-41d0-8c54-13f053dc2fe6",
   "metadata": {},
   "outputs": [],
   "source": []
  }
 ],
 "metadata": {
  "kernelspec": {
   "display_name": "Python 3 (ipykernel)",
   "language": "python",
   "name": "python3"
  },
  "language_info": {
   "codemirror_mode": {
    "name": "ipython",
    "version": 3
   },
   "file_extension": ".py",
   "mimetype": "text/x-python",
   "name": "python",
   "nbconvert_exporter": "python",
   "pygments_lexer": "ipython3",
   "version": "3.9.7"
  }
 },
 "nbformat": 4,
 "nbformat_minor": 5
}
