{
 "cells": [
  {
   "cell_type": "markdown",
   "id": "7fb83b7f-8800-4de8-9ecd-38499f70cfa3",
   "metadata": {},
   "source": [
    "## Solve 1D diffusion-advection equation in transient state for 1 crack (+internal Neumann BC)"
   ]
  },
  {
   "cell_type": "markdown",
   "id": "65d1ff52-f6ea-46cb-97d7-f6fdfdabccbc",
   "metadata": {},
   "source": [
    "## Websites to visit:\n",
    "- https://fenicsproject.discourse.group/t/integrating-over-an-interior-surface/247\n",
    "- https://fenicsproject.org/qa/12118/variable-vector-field/\n",
    "- https://fenicsproject.discourse.group/t/getting-cell-dofs-for-vector-valued-function-space-in-dolfinx/5167/2"
   ]
  },
  {
   "cell_type": "code",
   "execution_count": 1,
   "id": "299289e4-c3ad-4fc3-b516-a7b369020a03",
   "metadata": {},
   "outputs": [],
   "source": [
    "import numpy as np\n",
    "from mpi4py import MPI\n",
    "import pyvista\n",
    "import ufl\n",
    "\n",
    "from ufl import Measure, FacetNormal\n",
    "\n",
    "import dolfinx\n",
    "from dolfinx import fem, plot\n",
    "from dolfinx.io import XDMFFile\n",
    "from dolfinx.fem import FunctionSpace, VectorFunctionSpace, Constant, Function\n",
    "\n",
    "from petsc4py import PETSc\n",
    "from petsc4py.PETSc import ScalarType"
   ]
  },
  {
   "cell_type": "markdown",
   "id": "563b6f51-f169-4794-92df-d6e01ba2ea3e",
   "metadata": {},
   "source": [
    "## Read the mesh"
   ]
  },
  {
   "cell_type": "code",
   "execution_count": 2,
   "id": "76a5f79c-2824-4535-82c2-acd7782f1f4d",
   "metadata": {},
   "outputs": [],
   "source": [
    "# Read the mesh\n",
    "with XDMFFile(MPI.COMM_WORLD, \"mesh_1crack_extended/1crack2D_extended_mesh.xdmf\", \"r\") as xdmf:\n",
    "    mesh = xdmf.read_mesh(name=\"Grid\")\n",
    "    cell_tags = xdmf.read_meshtags(mesh, name=\"Grid\")\n",
    "mesh.topology.create_connectivity(mesh.topology.dim-1, mesh.topology.dim)\n",
    "\n",
    "with XDMFFile(MPI.COMM_WORLD, \"mesh_1crack_extended/1crack2D_extended_facet_mesh.xdmf\", \"r\") as xdmf:\n",
    "    facet_tags = xdmf.read_meshtags(mesh, name=\"Grid\")"
   ]
  },
  {
   "cell_type": "code",
   "execution_count": 3,
   "id": "9db3c4b2-4ced-47e0-baf5-b8c056c4ab11",
   "metadata": {},
   "outputs": [
    {
     "data": {
      "application/vnd.jupyter.widget-view+json": {
       "model_id": "7a884e0c1f7f496b8edaedb43fe3307e",
       "version_major": 2,
       "version_minor": 0
      },
      "text/plain": [
       "Renderer(camera=PerspectiveCamera(aspect=1.3333333333333333, children=(DirectionalLight(intensity=0.25, positi…"
      ]
     },
     "metadata": {},
     "output_type": "display_data"
    }
   ],
   "source": [
    "topology, cell_types, geometry = plot.create_vtk_mesh(mesh, mesh.topology.dim)\n",
    "grid = pyvista.UnstructuredGrid(topology, cell_types, geometry)\n",
    "\n",
    "pyvista.set_jupyter_backend(\"pythreejs\")\n",
    "\n",
    "plotter = pyvista.Plotter()\n",
    "plotter.add_mesh(grid, show_edges=True)\n",
    "plotter.view_xy()\n",
    "plotter.show()"
   ]
  },
  {
   "cell_type": "markdown",
   "id": "9979c6ab-f269-42b9-b339-5d9881bd49d2",
   "metadata": {},
   "source": [
    "## Define temporal parameters"
   ]
  },
  {
   "cell_type": "code",
   "execution_count": 4,
   "id": "6f46087b-310b-47e2-bb13-ed904d05850a",
   "metadata": {},
   "outputs": [],
   "source": [
    "t = 0 # Start time\n",
    "T = 100.0 # Final time 1000\n",
    "num_steps = 50     \n",
    "dt = T / num_steps # time step size\n",
    "\n",
    "TL = 5 # initial temperature and temperature on the right hand side"
   ]
  },
  {
   "cell_type": "markdown",
   "id": "a88897c1-6353-4db7-9432-d46131d747f4",
   "metadata": {},
   "source": [
    "## Finite element function space"
   ]
  },
  {
   "cell_type": "code",
   "execution_count": 5,
   "id": "404ee2b5-d840-4ed2-8fde-72398f04b9bb",
   "metadata": {},
   "outputs": [],
   "source": [
    "V = FunctionSpace(mesh, (\"CG\", 1))  # Lagrange element and and linear elements (degree 1)"
   ]
  },
  {
   "cell_type": "markdown",
   "id": "2871b869-d362-4992-ac1f-90ef98b06ea3",
   "metadata": {},
   "source": [
    "## Set initial conditions"
   ]
  },
  {
   "cell_type": "code",
   "execution_count": 6,
   "id": "a1a4fdff-52f7-4927-8223-0a3fff9ea1df",
   "metadata": {},
   "outputs": [],
   "source": [
    "T_n = Function(V)\n",
    "T_n.name = \"p_n\"\n",
    "T_n.x.array[:] = np.full(len(T_n.x.array), TL)"
   ]
  },
  {
   "cell_type": "markdown",
   "id": "92f087c5-e95f-42e9-a9d3-ecf634552673",
   "metadata": {},
   "source": [
    "## Boundary conditions"
   ]
  },
  {
   "cell_type": "code",
   "execution_count": 7,
   "id": "cc9d5fd1-6c8e-498d-8c07-fc1b151e236d",
   "metadata": {},
   "outputs": [],
   "source": [
    "# DIRICHLET: T=TL on all Dirichlet BC (side 1)\n",
    "boundary_dofs = fem.locate_dofs_topological(V, mesh.topology.dim-1, facet_tags.indices[facet_tags.values == 1])\n",
    "bc = fem.dirichletbc(ScalarType(TL), boundary_dofs, V)\n",
    "\n",
    "# INTERNAL NEUMANN: dp/dn=-4 on side 4\n",
    "ds = Measure(\"dS\", domain=mesh, subdomain_data=facet_tags)   # here dS and not ds !\n",
    "n = FacetNormal(mesh)\n",
    "g = Constant(mesh, ScalarType((50, 0)))"
   ]
  },
  {
   "cell_type": "markdown",
   "id": "28a9994f-5431-4bf1-8a16-e5185129cd18",
   "metadata": {},
   "source": [
    "## Time-dependent output"
   ]
  },
  {
   "cell_type": "code",
   "execution_count": 8,
   "id": "5f3c9ebc-97a0-4af0-a1b8-dc4281cc2c06",
   "metadata": {},
   "outputs": [],
   "source": [
    "T_h = T_n.copy()\n",
    "T_h.name = \"T_h\""
   ]
  },
  {
   "cell_type": "markdown",
   "id": "18a87608-3b12-42e3-b09c-72f0153acbe1",
   "metadata": {},
   "source": [
    "## Trial and test functions"
   ]
  },
  {
   "cell_type": "code",
   "execution_count": 9,
   "id": "c99cfe79-a2c7-4441-978a-75688bd70b95",
   "metadata": {},
   "outputs": [],
   "source": [
    "T, r = ufl.TrialFunction(V), ufl.TestFunction(V)"
   ]
  },
  {
   "cell_type": "markdown",
   "id": "7fe75643-1d0c-4826-9ff2-8b4cd32dcdbc",
   "metadata": {},
   "source": [
    "## Source term"
   ]
  },
  {
   "cell_type": "code",
   "execution_count": 10,
   "id": "6d51f935-1889-41b9-a092-7f662693e767",
   "metadata": {},
   "outputs": [],
   "source": [
    "# here f=0 as there is no source term\n",
    "f = fem.Constant(mesh, ScalarType(0))"
   ]
  },
  {
   "cell_type": "markdown",
   "id": "df169d6c-d109-4d94-be56-75682dc27abc",
   "metadata": {},
   "source": [
    "## Variational problem"
   ]
  },
  {
   "cell_type": "code",
   "execution_count": 11,
   "id": "4f29939e-de08-4f3a-9482-b2c79f48cfc1",
   "metadata": {},
   "outputs": [],
   "source": [
    "# physical properties\n",
    "rho = 1\n",
    "c = 1\n",
    "rho_w = 1\n",
    "c_w = 1\n",
    "cond = 1"
   ]
  },
  {
   "cell_type": "code",
   "execution_count": 12,
   "id": "fdaef256-bfd2-4d05-b090-040b6c704a70",
   "metadata": {},
   "outputs": [],
   "source": [
    "# define constant flux in the fracture and 0 flux on the rock\n",
    "Q = VectorFunctionSpace(mesh, (\"DG\", 0))\n",
    "q = Function(Q)\n",
    "num_cells = mesh.topology.index_map(mesh.topology.dim).size_local   # number of cells (here it is equal to the number of dofmap, see explanation below)\n",
    "block_size = Q.dofmap.index_map_bs  # number of dof per dofmap\n",
    "for i in range(num_cells):\n",
    "    # CAREFUL: go see the link: https://fenicsproject.discourse.group/t/getting-cell-dofs-for-vector-valued-function-space-in-dolfinx/5167/2\n",
    "    # Here each cell has only 1 dofmap as we have constant elements (\"DG\", 0) so Q.dofmap.cell_dofs(i) == num_dofs\n",
    "    # But if we have linear elements then \"num_dofs\" will be the number of the cell (size 1) and Q.dofmap.cell_dofs(i) will return the 3 nodes of the cell (size 3). \n",
    "    # Then, as here we have a VectorFunctionSpace (not a FunctionSpace), we have to take into account that the block size will be 2 and not size 1 as for a normal FunctionSpace.\n",
    "    # So in the end the real number of dof for the VectorFunctionSpace will be:\n",
    "    # nb_cells (given by mesh.topology.index_map(mesh.topology.dim).size_local) * nb_cell_dofs (given by Q.dofmap.cell_dofs(i)) * block_size (given by Q.dofmap.index_map_bs)\n",
    "    # If you want to check your understanding decomment the 2 following lines:\n",
    "    # cell_blocks = Q.dofmap.cell_dofs(i)\n",
    "    # print(i, cell_blocks)\n",
    "    if cell_tags.values[i] == 5:\n",
    "        q.x.array[[i*block_size, i*block_size+1]] = [0, 0]\n",
    "    elif cell_tags.values[i] == 6:\n",
    "        q.x.array[[i*block_size, i*block_size+1]] = [-60, 0]  # [-10, 0]"
   ]
  },
  {
   "cell_type": "code",
   "execution_count": 13,
   "id": "494dcfc6-39b3-4f17-b015-44e995c7b374",
   "metadata": {},
   "outputs": [
    {
     "name": "stdout",
     "output_type": "stream",
     "text": [
      "406\n",
      "406\n",
      "Same number so OK\n"
     ]
    }
   ],
   "source": [
    "# sanity check\n",
    "print(sum(q.x.array==-60))\n",
    "print(sum(cell_tags.values == 6))\n",
    "print(\"Same number so OK\")"
   ]
  },
  {
   "cell_type": "code",
   "execution_count": 14,
   "id": "c62405fd-4c9c-490c-ad82-87b374998a06",
   "metadata": {},
   "outputs": [],
   "source": [
    "# see the link mentioned on the top of the notebook to understand the last two terms of F\n",
    "F = T * r * ufl.dx + dt * cond/(rho*c) * ufl.dot(ufl.grad(T), ufl.grad(r)) * ufl.dx + dt * (rho_w*c_w)/(rho*c) * ufl.dot(q, ufl.grad(T)) * r * ufl.dx \\\n",
    "    - (T_n * r * ufl.dx + dt * f * r * ufl.dx - dt * cond/(rho*c) * ufl.dot(g('+'), n('+')) * r('+') * ds(4))"
   ]
  },
  {
   "cell_type": "raw",
   "id": "be14b9db-a214-460a-a5f7-41a35e1c8c8f",
   "metadata": {},
   "source": [
    "# add SUPG\n",
    "tdim = mesh.topology.dim\n",
    "num_cells = mesh.topology.index_map(tdim).size_local\n",
    "h = dolfinx.cpp.mesh.h(mesh, tdim, range(num_cells))\n",
    "h_av = np.mean(h)\n",
    "\n",
    "res =  T - T_n + dt*(ufl.dot(q, ufl.grad(T)) - ufl.div(ufl.grad(T)) - f)\n",
    "\n",
    "qnorm = ufl.sqrt(ufl.dot(q, q))\n",
    "tau = h_av/(4*qnorm)\n",
    "\n",
    "F += tau * ufl.dot(q, ufl.grad(r)) * res * ufl.dx"
   ]
  },
  {
   "cell_type": "code",
   "execution_count": 15,
   "id": "8e8354f0-2c1c-4451-bd4a-79e390dbc183",
   "metadata": {},
   "outputs": [],
   "source": [
    "a = ufl.lhs(F)\n",
    "L = ufl.rhs(F)"
   ]
  },
  {
   "cell_type": "markdown",
   "id": "ea15d1c1-837e-480f-bf52-27d9dae5d67d",
   "metadata": {},
   "source": [
    "## Preparation of linear algebra structures for time dependent problems"
   ]
  },
  {
   "cell_type": "code",
   "execution_count": 16,
   "id": "50e3aab3-e61e-42b6-9fca-5af5aa5873c1",
   "metadata": {},
   "outputs": [],
   "source": [
    "bilinear_form = fem.form(a)\n",
    "linear_form = fem.form(L)"
   ]
  },
  {
   "cell_type": "code",
   "execution_count": 17,
   "id": "a6d3953f-83f7-4263-87cc-699e5b26a1b5",
   "metadata": {},
   "outputs": [],
   "source": [
    "A = fem.petsc.assemble_matrix(bilinear_form, bcs=[bc])\n",
    "A.assemble()\n",
    "b = fem.petsc.create_vector(linear_form)"
   ]
  },
  {
   "cell_type": "markdown",
   "id": "2b72778d-be78-4e5b-9fbc-22c15e49e780",
   "metadata": {},
   "source": [
    "## Linear solver"
   ]
  },
  {
   "cell_type": "code",
   "execution_count": 18,
   "id": "59bba1ca-1854-40ae-acf1-672435eb2f87",
   "metadata": {},
   "outputs": [],
   "source": [
    "solver = PETSc.KSP().create(mesh.comm)\n",
    "solver.setOperators(A)\n",
    "solver.setType(PETSc.KSP.Type.PREONLY)\n",
    "solver.getPC().setType(PETSc.PC.Type.LU)"
   ]
  },
  {
   "cell_type": "code",
   "execution_count": 19,
   "id": "f46645be-4bb5-48ac-bb13-728b48f0c997",
   "metadata": {},
   "outputs": [
    {
     "data": {
      "application/vnd.jupyter.widget-view+json": {
       "model_id": "f7f8ce574f614fe385fbd6b9264e0d82",
       "version_major": 2,
       "version_minor": 0
      },
      "text/plain": [
       "AppLayout(children=(VBox(children=(HTML(value='<h3>u(0)</h3>'), Dropdown(description='Colormap:', options={'Br…"
      ]
     },
     "metadata": {},
     "output_type": "display_data"
    }
   ],
   "source": [
    "import pyvista\n",
    "pyvista.set_jupyter_backend(\"ipygany\")\n",
    "\n",
    "grid = pyvista.UnstructuredGrid(*plot.create_vtk_mesh(V))\n",
    "\n",
    "def plot_function(t, uh):\n",
    "    \"\"\"\n",
    "    Create a figure of the concentration uh warped visualized in 3D at timet step t.\n",
    "    \"\"\"\n",
    "    p = pyvista.Plotter()\n",
    "    # Update point values on pyvista grid\n",
    "    grid.point_data[f\"u({t})\"] = uh.x.array.real\n",
    "    # Warp mesh by point values\n",
    "    warped = grid.warp_by_scalar(f\"u({t})\", factor=1.5)\n",
    "\n",
    "    # Add mesh to plotter and visualize in notebook or save as figure\n",
    "    actor = p.add_mesh(warped)\n",
    "    if not pyvista.OFF_SCREEN:\n",
    "        p.show()\n",
    "    else:\n",
    "        pyvista.start_xvfb()\n",
    "        figure_as_array = p.screenshot(f\"diffusion_{t:.2f}.png\")\n",
    "        # Clear plotter for next plot\n",
    "        p.remove_actor(actor)\n",
    "plot_function(0, T_h)"
   ]
  },
  {
   "cell_type": "code",
   "execution_count": 20,
   "id": "679f42f1-6c49-47b0-83f7-a8a510c909a1",
   "metadata": {},
   "outputs": [
    {
     "data": {
      "application/vnd.jupyter.widget-view+json": {
       "model_id": "2cd081aebf2e4321b019269ace323cf6",
       "version_major": 2,
       "version_minor": 0
      },
      "text/plain": [
       "AppLayout(children=(VBox(children=(HTML(value='<h3>u(2.0)</h3>'), Dropdown(description='Colormap:', options={'…"
      ]
     },
     "metadata": {},
     "output_type": "display_data"
    },
    {
     "data": {
      "application/vnd.jupyter.widget-view+json": {
       "model_id": "0eea03012353486bbc2d5a9d794b1965",
       "version_major": 2,
       "version_minor": 0
      },
      "text/plain": [
       "AppLayout(children=(VBox(children=(HTML(value='<h3>u(32.0)</h3>'), Dropdown(description='Colormap:', options={…"
      ]
     },
     "metadata": {},
     "output_type": "display_data"
    },
    {
     "data": {
      "application/vnd.jupyter.widget-view+json": {
       "model_id": "a359661aa0d943d283db2395a0f7ad02",
       "version_major": 2,
       "version_minor": 0
      },
      "text/plain": [
       "AppLayout(children=(VBox(children=(HTML(value='<h3>u(62.0)</h3>'), Dropdown(description='Colormap:', options={…"
      ]
     },
     "metadata": {},
     "output_type": "display_data"
    },
    {
     "data": {
      "application/vnd.jupyter.widget-view+json": {
       "model_id": "7f19ef2c19cf45cc910ca04cf254155e",
       "version_major": 2,
       "version_minor": 0
      },
      "text/plain": [
       "AppLayout(children=(VBox(children=(HTML(value='<h3>u(92.0)</h3>'), Dropdown(description='Colormap:', options={…"
      ]
     },
     "metadata": {},
     "output_type": "display_data"
    }
   ],
   "source": [
    "for i in range(num_steps):\n",
    "    t += dt\n",
    "\n",
    "    # Update the right hand side reusing the initial vector\n",
    "    with b.localForm() as loc_b:\n",
    "        loc_b.set(0)\n",
    "    fem.petsc.assemble_vector(b, linear_form)\n",
    "    \n",
    "    # Apply Dirichlet boundary condition to the vector\n",
    "    fem.petsc.apply_lifting(b, [bilinear_form], [[bc]])\n",
    "    b.ghostUpdate(addv=PETSc.InsertMode.ADD_VALUES, mode=PETSc.ScatterMode.REVERSE)\n",
    "    fem.petsc.set_bc(b, [bc])\n",
    "\n",
    "    # Solve linear problem\n",
    "    solver.solve(b, T_h.vector)\n",
    "    T_h.x.scatter_forward()\n",
    "\n",
    "    # Update solution at previous time step (u_n)\n",
    "    T_n.x.array[:] = T_h.x.array\n",
    "\n",
    "    # Plot every 15th time step\n",
    "    if i % 15 == 0:\n",
    "        plot_function(t, T_h)"
   ]
  },
  {
   "cell_type": "code",
   "execution_count": null,
   "id": "ae76106c-d94d-4268-aade-97b55437252a",
   "metadata": {},
   "outputs": [],
   "source": []
  },
  {
   "cell_type": "code",
   "execution_count": null,
   "id": "41e4d06b-b7c8-4dab-8cff-85599d7bb544",
   "metadata": {},
   "outputs": [],
   "source": []
  }
 ],
 "metadata": {
  "kernelspec": {
   "display_name": "Python 3 (ipykernel)",
   "language": "python",
   "name": "python3"
  },
  "language_info": {
   "codemirror_mode": {
    "name": "ipython",
    "version": 3
   },
   "file_extension": ".py",
   "mimetype": "text/x-python",
   "name": "python",
   "nbconvert_exporter": "python",
   "pygments_lexer": "ipython3",
   "version": "3.9.7"
  }
 },
 "nbformat": 4,
 "nbformat_minor": 5
}
