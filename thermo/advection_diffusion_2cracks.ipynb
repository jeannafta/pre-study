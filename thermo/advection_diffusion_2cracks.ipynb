{
 "cells": [
  {
   "cell_type": "markdown",
   "id": "3cb14fc5-9b58-4ac7-a460-0cb2511cecc0",
   "metadata": {},
   "source": [
    "## Solve 2D diffusion-advection equation in transient state for 2 cracks"
   ]
  },
  {
   "cell_type": "code",
   "execution_count": 1,
   "id": "8ebcc478-1055-46d0-9f99-271f913d4dc3",
   "metadata": {},
   "outputs": [],
   "source": [
    "import numpy as np\n",
    "from mpi4py import MPI\n",
    "import pyvista\n",
    "import ufl\n",
    "\n",
    "from ufl import Measure\n",
    "\n",
    "import dolfinx\n",
    "from dolfinx import fem, plot\n",
    "from dolfinx.io import XDMFFile\n",
    "from dolfinx.fem import FunctionSpace, VectorFunctionSpace, Constant, Function\n",
    "from dolfinx.plot import create_vtk_mesh\n",
    "\n",
    "from petsc4py import PETSc\n",
    "from petsc4py.PETSc import ScalarType"
   ]
  },
  {
   "cell_type": "markdown",
   "id": "0aea698d-274e-467f-8ac9-a2df2798ffcb",
   "metadata": {},
   "source": [
    "## Read the mesh"
   ]
  },
  {
   "cell_type": "code",
   "execution_count": 2,
   "id": "e36b0f2f-267e-4bcf-8c13-4cbf694c0abc",
   "metadata": {},
   "outputs": [],
   "source": [
    "# Read the mesh\n",
    "with XDMFFile(MPI.COMM_WORLD, \"mesh_2cracks/linear/2cracks2D_mesh.xdmf\", \"r\") as xdmf:\n",
    "    mesh = xdmf.read_mesh(name=\"Grid\")\n",
    "    cell_tags = xdmf.read_meshtags(mesh, name=\"Grid\")\n",
    "mesh.topology.create_connectivity(mesh.topology.dim-1, mesh.topology.dim)\n",
    "\n",
    "with XDMFFile(MPI.COMM_WORLD, \"mesh_2cracks/linear/2cracks2D_facet_mesh.xdmf\", \"r\") as xdmf:\n",
    "    facet_tags = xdmf.read_meshtags(mesh, name=\"Grid\")"
   ]
  },
  {
   "cell_type": "code",
   "execution_count": 3,
   "id": "367ce5d7-1423-4130-8289-80c4db1a05c2",
   "metadata": {},
   "outputs": [
    {
     "data": {
      "application/vnd.jupyter.widget-view+json": {
       "model_id": "adcf70e8ed0941aebf6c89e749040a24",
       "version_major": 2,
       "version_minor": 0
      },
      "text/plain": [
       "Renderer(camera=PerspectiveCamera(children=(DirectionalLight(intensity=0.25, position=(0.0, 0.0, 100000.0), qu…"
      ]
     },
     "metadata": {},
     "output_type": "display_data"
    }
   ],
   "source": [
    "# visualise the different materials\n",
    "pyvista.set_jupyter_backend(\"pythreejs\")\n",
    "\n",
    "p = pyvista.Plotter(window_size=[800, 800], shape=(1,1))\n",
    "# Filter out ghosted cells\n",
    "num_cells_local = mesh.topology.index_map(mesh.topology.dim).size_local\n",
    "marker = np.zeros(num_cells_local, dtype=np.int32)\n",
    "cells_0 = cell_tags.indices[cell_tags.values == 5]\n",
    "cells_1 = cell_tags.indices[cell_tags.values == 4]\n",
    "cells_0 = cells_0[cells_0<num_cells_local]\n",
    "cells_1 = cells_1[cells_1<num_cells_local]\n",
    "marker[cells_0] = 1\n",
    "marker[cells_1] = 2\n",
    "topology, cell_types, x = create_vtk_mesh(mesh, mesh.topology.dim, np.arange(num_cells_local, dtype=np.int32))\n",
    "grid = pyvista.UnstructuredGrid(topology, cell_types, x)\n",
    "grid.cell_data[\"Marker\"] = marker\n",
    "grid.set_active_scalars(\"Marker\")\n",
    "actor0 = p.add_mesh(grid, show_edges=True)\n",
    "if not pyvista.OFF_SCREEN:\n",
    "    p.show()"
   ]
  },
  {
   "cell_type": "markdown",
   "id": "9ceea7ad-1d49-4587-a2a6-e8c749922fb6",
   "metadata": {},
   "source": [
    "## Define temporal parameters"
   ]
  },
  {
   "cell_type": "code",
   "execution_count": 4,
   "id": "1459a546-4080-45e9-b559-11d5d9cd80ae",
   "metadata": {},
   "outputs": [],
   "source": [
    "t = 0 # Start time\n",
    "T = 10000000. # 10000000. #100000 Final time\n",
    "num_steps = 1000 # *100\n",
    "dt = T / num_steps # time step size\n",
    "\n",
    "Text = 10 # initial temperature and temperature on the far boundaries (L_ext)\n",
    "Tinj = 80 # temperature of injected water"
   ]
  },
  {
   "cell_type": "markdown",
   "id": "8901c4cd-b54b-4a8a-b678-8f42942bf2fa",
   "metadata": {},
   "source": [
    "## Finite element function space"
   ]
  },
  {
   "cell_type": "code",
   "execution_count": 5,
   "id": "08d18ec3-89f0-4f03-b397-423f511ebc20",
   "metadata": {},
   "outputs": [],
   "source": [
    "V = FunctionSpace(mesh, (\"CG\", 1))  # Lagrange element and and linear elements (degree 1)"
   ]
  },
  {
   "cell_type": "markdown",
   "id": "c2e1aefd-d66f-4b98-9cc0-ecab7ffc9e73",
   "metadata": {},
   "source": [
    "## Set initial conditions"
   ]
  },
  {
   "cell_type": "code",
   "execution_count": 6,
   "id": "23aae9ce-053c-4e41-be75-0f86f16dd362",
   "metadata": {},
   "outputs": [],
   "source": [
    "T_n = Function(V)\n",
    "T_n.name = \"T_n\"\n",
    "T_n.x.array[:] = np.full(len(T_n.x.array), Text)"
   ]
  },
  {
   "cell_type": "markdown",
   "id": "4c40c9aa-f77b-4200-a697-8635d642ffd3",
   "metadata": {},
   "source": [
    "### Store this initial condition in another variable because T_n will change at each iteration, and we need to keep the initial temperature for the calculation of the stores energy at the end"
   ]
  },
  {
   "cell_type": "code",
   "execution_count": 7,
   "id": "a05f50a9-fc48-4c97-a465-195441cb7343",
   "metadata": {},
   "outputs": [],
   "source": [
    "T_i = T_n.copy()\n",
    "T_i.name = \"T_i\""
   ]
  },
  {
   "cell_type": "markdown",
   "id": "a1dccd28-4181-4480-81d1-03df53d3cdb7",
   "metadata": {},
   "source": [
    "## Boundary conditions"
   ]
  },
  {
   "cell_type": "code",
   "execution_count": 8,
   "id": "813a3a39-b9e5-4488-b48d-7cdaae70baca",
   "metadata": {},
   "outputs": [],
   "source": [
    "# DIRICHLET: T=Ti on side 1\n",
    "boundary_dofs_ext = fem.locate_dofs_topological(V, mesh.topology.dim-1, facet_tags.indices[facet_tags.values == 1])\n",
    "bc_ext = fem.dirichletbc(ScalarType(Text), boundary_dofs_ext, V)\n",
    "boundary_dofs_inj = fem.locate_dofs_topological(V, mesh.topology.dim-1, facet_tags.indices[(facet_tags.values == 2) | (facet_tags.values == 3)])\n",
    "bc_inj = fem.dirichletbc(ScalarType(Tinj), boundary_dofs_inj, V)\n",
    "# T=TI on side 3\n",
    "#boundary_dofs = fem.locate_dofs_topological(V, mesh.topology.dim-1, facet_tags.indices[facet_tags.values == 3])\n",
    "#bc_left = fem.dirichletbc(ScalarType(TI), boundary_dofs, V)\n",
    "\n",
    "bc_tot = [bc_ext, bc_inj]\n",
    "\n",
    "# NEUMANN: dp/dn=-10\n",
    "# nothing"
   ]
  },
  {
   "cell_type": "markdown",
   "id": "690e6a68-704a-4da1-a98e-1aa1ddeb8a84",
   "metadata": {},
   "source": [
    "## Time-dependent output"
   ]
  },
  {
   "cell_type": "code",
   "execution_count": 9,
   "id": "330e08f0-c5a9-4d59-ae51-1eee32505f6e",
   "metadata": {},
   "outputs": [],
   "source": [
    "T_h = T_n.copy()\n",
    "T_h.name = \"T_h\""
   ]
  },
  {
   "cell_type": "markdown",
   "id": "aeeae29a-4de6-480c-b97a-9bf608622709",
   "metadata": {},
   "source": [
    "## Trial and test functions"
   ]
  },
  {
   "cell_type": "code",
   "execution_count": 10,
   "id": "7374f002-94f4-40cd-ac61-59a57fba6081",
   "metadata": {},
   "outputs": [],
   "source": [
    "T, r = ufl.TrialFunction(V), ufl.TestFunction(V)"
   ]
  },
  {
   "cell_type": "markdown",
   "id": "1da33199-a7c8-437d-9c4c-9e848cf85265",
   "metadata": {},
   "source": [
    "## Source term"
   ]
  },
  {
   "cell_type": "code",
   "execution_count": 11,
   "id": "57e59275-29d3-422a-8f92-19a15481cf78",
   "metadata": {},
   "outputs": [],
   "source": [
    "# here f=0 as there is no source term\n",
    "f = fem.Constant(mesh, ScalarType(0))"
   ]
  },
  {
   "cell_type": "markdown",
   "id": "800b0076-213d-4d14-906a-df9e6972d879",
   "metadata": {},
   "source": [
    "## Variational problem"
   ]
  },
  {
   "cell_type": "code",
   "execution_count": 12,
   "id": "5b360fd3-fb7d-41dc-adc7-7d5e4ee5f219",
   "metadata": {},
   "outputs": [],
   "source": [
    "# physical properties\n",
    "\n",
    "scale = 1         # scale distance: 10m sur mesh = 1m en vrai\n",
    "\n",
    "# for water\n",
    "rho_w = 997*scale**3         # density of water in kg/m³\n",
    "c_w = 4182/scale**2          # specific heat of water in J/(kg*K)\n",
    "cond_w = 0.598/scale      # thermal conductivity of water in W/(m·K)\n",
    "\n",
    "# for ceramic proppant   \n",
    "# see the link: http://www.frackoptima.com/userguide/interface/materials-tab.html#proppants\n",
    "rho_p = 1800*scale**3        # density of ceramic proppant in kg/m³\n",
    "c_p = 1.6*10**6/1800/scale**2  # specific heat of ceramic proppant in J/(kg*K)\n",
    "cond_p = 3/scale               # thermal conductivity of water in W/(m·K)\n",
    "n = 0.4          # porosity\n",
    "\n",
    "# for granite\n",
    "rho_g = 2700*scale**3          # density of granite in kg/m³\n",
    "c_g = 790/scale**2           # specific heat of granite in J/(kg*K)\n",
    "cond_g = 3.2/scale        # thermal conductivity of granite in W/(m·K)\n",
    "\n",
    "# get the homogenized parameters in the fracture\n",
    "rho_h = (1-n)*rho_p + n*rho_w\n",
    "c_h = (1-n)*c_p + n*c_w\n",
    "cond_h = (1-n)*cond_p + n*cond_w\n",
    "\n",
    "# give those different properties to the domain\n",
    "\n",
    "M = FunctionSpace(mesh, (\"DG\", 0))\n",
    "# materials\n",
    "rock_mask = (cell_tags.values == 4)\n",
    "fracture_mask = (cell_tags.values == 5)\n",
    "# parameters\n",
    "rho = Function(M)\n",
    "rho.x.array[rock_mask] = np.full(rock_mask.sum(), rho_g)\n",
    "rho.x.array[fracture_mask] = np.full(fracture_mask.sum(), rho_h)\n",
    "\n",
    "c = Function(M)\n",
    "c.x.array[rock_mask] = np.full(rock_mask.sum(), c_g)\n",
    "c.x.array[fracture_mask] = np.full(fracture_mask.sum(), c_h)\n",
    "\n",
    "cond = Function(M)\n",
    "cond.x.array[rock_mask] = np.full(rock_mask.sum(), cond_g)\n",
    "cond.x.array[fracture_mask] = np.full(fracture_mask.sum(), cond_h)"
   ]
  },
  {
   "cell_type": "code",
   "execution_count": 13,
   "id": "b4009d52-b674-4765-a059-ca2405071fe8",
   "metadata": {},
   "outputs": [],
   "source": [
    "# define constant flux in the fracture and 0 flux on the rock\n",
    "Q = VectorFunctionSpace(mesh, (\"DG\", 0))   # (\"DG\", 0)\n",
    "q = Function(Q)\n",
    "num_cells = mesh.topology.index_map(mesh.topology.dim).size_local   # number of cells (here it is equal to the number of dofmap, see explanation below)\n",
    "block_size = Q.dofmap.index_map_bs  # number of dof per dofmap\n",
    "for i in range(num_cells):\n",
    "    if cell_tags.values[i] == 5:\n",
    "        q.x.array[[i*block_size, i*block_size+1]] = [1., 0]  # 1.\n",
    "    elif cell_tags.values[i] == 4:\n",
    "        q.x.array[[i*block_size, i*block_size+1]] = [0, 0]"
   ]
  },
  {
   "cell_type": "code",
   "execution_count": 14,
   "id": "072a8d70-0755-4b83-a86d-c817c196fa34",
   "metadata": {},
   "outputs": [
    {
     "data": {
      "application/vnd.jupyter.widget-view+json": {
       "model_id": "483d83869e684dfc9e8c1aa275e73b14",
       "version_major": 2,
       "version_minor": 0
      },
      "text/plain": [
       "Renderer(camera=PerspectiveCamera(aspect=1.3333333333333333, children=(DirectionalLight(intensity=0.25, positi…"
      ]
     },
     "metadata": {},
     "output_type": "display_data"
    }
   ],
   "source": [
    "# plot velocity field\n",
    "from dolfinx.mesh import compute_midpoints\n",
    "plotter = pyvista.Plotter()\n",
    "#plotter.set_position([0,0,5])\n",
    "\n",
    "# We include ghosts cells as we access all degrees of freedom (including ghosts) on each process\n",
    "top_imap = mesh.topology.index_map(mesh.topology.dim)\n",
    "num_cells = top_imap.size_local + top_imap.num_ghosts\n",
    "midpoints = compute_midpoints(mesh, mesh.topology.dim, range(num_cells))\n",
    "\n",
    "num_dofs = Q.dofmap.index_map.size_local +  Q.dofmap.index_map.num_ghosts\n",
    "assert(num_cells == num_dofs)\n",
    "values = np.zeros((num_dofs, 3), dtype=np.float64)\n",
    "values[:, :mesh.geometry.dim] = q.x.array.real.reshape(num_dofs, Q.dofmap.index_map_bs)\n",
    "cloud = pyvista.PolyData(midpoints)\n",
    "cloud[\"q\"] = values\n",
    "glyphs = cloud.glyph(\"q\", factor=1e-1)\n",
    "actor = plotter.add_mesh(grid, style=\"wireframe\", color=\"k\")\n",
    "actor2 = plotter.add_mesh(glyphs)\n",
    "\n",
    "if not pyvista.OFF_SCREEN:\n",
    "    plotter.show()"
   ]
  },
  {
   "cell_type": "code",
   "execution_count": 15,
   "id": "534557f8-b13e-40a2-be7a-0c4018ed939d",
   "metadata": {},
   "outputs": [],
   "source": [
    "F = T * r * ufl.dx + dt * cond/(rho*c) * ufl.dot(ufl.grad(T), ufl.grad(r)) * ufl.dx + dt * (rho_w*c_w)/(rho*c) * ufl.dot(q, ufl.grad(T)) * r * ufl.dx \\\n",
    "    - (T_n * r * ufl.dx + dt * f * r * ufl.dx)  # - dt * cond/(rho*c) * g * r * ds(2)) no Neumann conditions"
   ]
  },
  {
   "cell_type": "raw",
   "id": "dc9fd673-e44a-4031-8d84-90612faae491",
   "metadata": {},
   "source": [
    "# add SUPG\n",
    "tdim = mesh.topology.dim\n",
    "num_cells = mesh.topology.index_map(tdim).size_local\n",
    "h = dolfinx.cpp.mesh.h(mesh, tdim, range(num_cells))\n",
    "h_av = np.min(h)\n",
    "\n",
    "res =  T - T_n + dt*(ufl.dot(q, ufl.grad(T)) - ufl.div(ufl.grad(T)) - f)\n",
    "\n",
    "qnorm = ufl.sqrt(ufl.dot(q, q))\n",
    "qnorm=0.001\n",
    "tau = h_av/(2*qnorm)  #2\n",
    "\n",
    "F += tau * ufl.dot(q, ufl.grad(r)) * res * ufl.dx"
   ]
  },
  {
   "cell_type": "code",
   "execution_count": 16,
   "id": "4a74f81c-4661-41b3-8cc2-04bc224674a8",
   "metadata": {},
   "outputs": [],
   "source": [
    "a = ufl.lhs(F)\n",
    "L = ufl.rhs(F)"
   ]
  },
  {
   "cell_type": "markdown",
   "id": "f56cdcbb-3c4b-408a-afbc-f246d6e8bdda",
   "metadata": {},
   "source": [
    "## Preparation of linear algebra structures for time dependent problems"
   ]
  },
  {
   "cell_type": "code",
   "execution_count": 17,
   "id": "44013c98-9568-477c-8441-6b5970d43348",
   "metadata": {},
   "outputs": [],
   "source": [
    "bilinear_form = fem.form(a)\n",
    "linear_form = fem.form(L)"
   ]
  },
  {
   "cell_type": "code",
   "execution_count": 18,
   "id": "66c4ef2a-0e14-4db4-8d77-3dc4ea86f946",
   "metadata": {},
   "outputs": [],
   "source": [
    "# bilinear_form (a) isn't time dependant so we can assemble it once (we could do the same for the integral of the Neumann term as the flux is contant, but for now let's stay like that)\n",
    "A = fem.petsc.assemble_matrix(bilinear_form, bcs=bc_tot)\n",
    "A.assemble()\n",
    "b = fem.petsc.create_vector(linear_form)"
   ]
  },
  {
   "cell_type": "markdown",
   "id": "54f5fb3f-384f-483c-8312-fcfc8ceed4f0",
   "metadata": {},
   "source": [
    "## Linear solver"
   ]
  },
  {
   "cell_type": "code",
   "execution_count": 19,
   "id": "e99ea2f0-fdb9-4b4a-9d97-2cc8a9044631",
   "metadata": {},
   "outputs": [],
   "source": [
    "# here matrix A is already assembled so we don't need to use petsc.LinearProblem like in tuto1\n",
    "solver = PETSc.KSP().create(mesh.comm)\n",
    "solver.setOperators(A)\n",
    "solver.setType(PETSc.KSP.Type.PREONLY)\n",
    "solver.getPC().setType(PETSc.PC.Type.LU)"
   ]
  },
  {
   "cell_type": "code",
   "execution_count": 20,
   "id": "04f887c4-66ab-4778-9447-7864f0d2f36b",
   "metadata": {},
   "outputs": [
    {
     "data": {
      "application/vnd.jupyter.widget-view+json": {
       "model_id": "4274eb70396f42a2b6faae577f37651c",
       "version_major": 2,
       "version_minor": 0
      },
      "text/plain": [
       "AppLayout(children=(VBox(children=(HTML(value='<h3>u(0)</h3>'), Dropdown(description='Colormap:', options={'Br…"
      ]
     },
     "metadata": {},
     "output_type": "display_data"
    }
   ],
   "source": [
    "import pyvista\n",
    "pyvista.set_jupyter_backend(\"ipygany\")\n",
    "\n",
    "grid = pyvista.UnstructuredGrid(*plot.create_vtk_mesh(V))\n",
    "\n",
    "def plot_function(t, uh):\n",
    "    \"\"\"\n",
    "    Create a figure of the concentration uh warped visualized in 3D at timet step t.\n",
    "    \"\"\"\n",
    "    p = pyvista.Plotter()\n",
    "    # Update point values on pyvista grid\n",
    "    grid.point_data[f\"u({t})\"] = uh.x.array.real\n",
    "    # Warp mesh by point values\n",
    "    warped = grid.warp_by_scalar(f\"u({t})\", factor=1)  #1.5\n",
    "\n",
    "    # Add mesh to plotter and visualize in notebook or save as figure\n",
    "    actor = p.add_mesh(warped)\n",
    "    if not pyvista.OFF_SCREEN:\n",
    "        p.show()\n",
    "    else:\n",
    "        pyvista.start_xvfb()\n",
    "        figure_as_array = p.screenshot(f\"diffusion_{t:.2f}.png\")\n",
    "        # Clear plotter for next plot\n",
    "        p.remove_actor(actor)\n",
    "plot_function(0, T_h)"
   ]
  },
  {
   "cell_type": "code",
   "execution_count": 21,
   "id": "bbfff927-eeff-4bed-aebe-87c85398075a",
   "metadata": {},
   "outputs": [
    {
     "data": {
      "application/vnd.jupyter.widget-view+json": {
       "model_id": "7a4a636dc41843c59e5ef369a3b2bad6",
       "version_major": 2,
       "version_minor": 0
      },
      "text/plain": [
       "AppLayout(children=(VBox(children=(HTML(value='<h3>u(10000.0)</h3>'), Dropdown(description='Colormap:', option…"
      ]
     },
     "metadata": {},
     "output_type": "display_data"
    },
    {
     "data": {
      "application/vnd.jupyter.widget-view+json": {
       "model_id": "dbb23488c85142b593af65ce93fddac3",
       "version_major": 2,
       "version_minor": 0
      },
      "text/plain": [
       "AppLayout(children=(VBox(children=(HTML(value='<h3>u(2010000.0)</h3>'), Dropdown(description='Colormap:', opti…"
      ]
     },
     "metadata": {},
     "output_type": "display_data"
    },
    {
     "data": {
      "application/vnd.jupyter.widget-view+json": {
       "model_id": "2bc76f66686846318f7bcd8d3e581209",
       "version_major": 2,
       "version_minor": 0
      },
      "text/plain": [
       "AppLayout(children=(VBox(children=(HTML(value='<h3>u(4010000.0)</h3>'), Dropdown(description='Colormap:', opti…"
      ]
     },
     "metadata": {},
     "output_type": "display_data"
    },
    {
     "data": {
      "application/vnd.jupyter.widget-view+json": {
       "model_id": "a81c7c0ff7144d59bd3d2beee9c19255",
       "version_major": 2,
       "version_minor": 0
      },
      "text/plain": [
       "AppLayout(children=(VBox(children=(HTML(value='<h3>u(6010000.0)</h3>'), Dropdown(description='Colormap:', opti…"
      ]
     },
     "metadata": {},
     "output_type": "display_data"
    },
    {
     "data": {
      "application/vnd.jupyter.widget-view+json": {
       "model_id": "d36c3abc356241ebaec15d031fad70f8",
       "version_major": 2,
       "version_minor": 0
      },
      "text/plain": [
       "AppLayout(children=(VBox(children=(HTML(value='<h3>u(8010000.0)</h3>'), Dropdown(description='Colormap:', opti…"
      ]
     },
     "metadata": {},
     "output_type": "display_data"
    }
   ],
   "source": [
    "T_vec = [] # for saving\n",
    "for i in range(num_steps):\n",
    "    t += dt\n",
    "\n",
    "    # Update the right hand side reusing the initial vector\n",
    "    with b.localForm() as loc_b:\n",
    "        loc_b.set(0)\n",
    "    fem.petsc.assemble_vector(b, linear_form)\n",
    "    \n",
    "    # Apply Dirichlet boundary condition to the vector\n",
    "    fem.petsc.apply_lifting(b, [bilinear_form], [bc_tot])\n",
    "    b.ghostUpdate(addv=PETSc.InsertMode.ADD_VALUES, mode=PETSc.ScatterMode.REVERSE)\n",
    "    fem.petsc.set_bc(b, bc_tot)\n",
    "\n",
    "    # Solve linear problem\n",
    "    solver.solve(b, T_h.vector)\n",
    "    T_h.x.scatter_forward()\n",
    "\n",
    "    # Update solution at previous time step (u_n)\n",
    "    T_n.x.array[:] = T_h.x.array\n",
    "        \n",
    "    if i % 200 == 0:\n",
    "        plot_function(t, T_h)\n",
    "        \n",
    "    if t == 10000 or t == 100000 or t == 1000000 or t == 10000000:\n",
    "        # also save the values\n",
    "        T_vec.append(T_h.x.array[(mesh.geometry.x[:,0]>=20-0.1) & (mesh.geometry.x[:,0]<=20+0.1) & (mesh.geometry.x[:,1]>=35) & (mesh.geometry.x[:,1]<=45)])"
   ]
  },
  {
   "cell_type": "markdown",
   "id": "c5ab5f89-a0ad-4eb5-905e-b430dd1aa48a",
   "metadata": {},
   "source": [
    "## Compute the stored energy"
   ]
  },
  {
   "cell_type": "code",
   "execution_count": 22,
   "id": "91d30762-9ef1-4c0e-b316-fe9045a03112",
   "metadata": {},
   "outputs": [
    {
     "data": {
      "text/plain": [
       "80477283378.73146"
      ]
     },
     "execution_count": 22,
     "metadata": {},
     "output_type": "execute_result"
    }
   ],
   "source": [
    "# define custom integration to integrate only over rock domain\n",
    "dx_rock = Measure(\"dx\", domain=mesh, subdomain_data=cell_tags)\n",
    "\n",
    "I = fem.form(rho * c * (T_h-T_i) * dx_rock(4))\n",
    "stored_energy = fem.assemble_scalar(I)\n",
    "stored_energy # stored energy in J/m"
   ]
  },
  {
   "cell_type": "code",
   "execution_count": 23,
   "id": "cb7e8f99-a5bd-4912-a0cb-138e6ef20511",
   "metadata": {},
   "outputs": [
    {
     "data": {
      "text/plain": [
       "80477.28337873146"
      ]
     },
     "execution_count": 23,
     "metadata": {},
     "output_type": "execute_result"
    }
   ],
   "source": [
    "stored_energy/1000000  # stored energy in MJ/m"
   ]
  },
  {
   "cell_type": "markdown",
   "id": "4b7af64c-0938-4ea2-b5ad-0ccb7344924e",
   "metadata": {},
   "source": [
    "## Verify the solution "
   ]
  },
  {
   "cell_type": "code",
   "execution_count": 24,
   "id": "1533c154-5e89-43bf-b5e5-7e7868ba6457",
   "metadata": {},
   "outputs": [],
   "source": [
    "import math"
   ]
  },
  {
   "cell_type": "code",
   "execution_count": 25,
   "id": "70ca57f5-6a6f-4484-8309-43ee30cd14e3",
   "metadata": {},
   "outputs": [],
   "source": [
    "def T_analytical(T0, Ti, diff, x, t):\n",
    "    return T0 + (Ti-T0)*math.erf(x/math.sqrt(4*diff*t))"
   ]
  },
  {
   "cell_type": "code",
   "execution_count": 26,
   "id": "3a50a040-c5c4-44ce-be05-01bfd9cb6cb4",
   "metadata": {},
   "outputs": [],
   "source": [
    "diff_g = cond_g/(rho_g*c_g)   # diffusivity of granite\n",
    "h = 5                        # length between the 2 cracks"
   ]
  },
  {
   "cell_type": "code",
   "execution_count": 27,
   "id": "8da25792-aeb9-4446-99b9-02950bfacbd2",
   "metadata": {},
   "outputs": [
    {
     "data": {
      "text/plain": [
       "35.294356104802745"
      ]
     },
     "execution_count": 27,
     "metadata": {},
     "output_type": "execute_result"
    }
   ],
   "source": [
    "T_analytical(Tinj, Text, diff_g, h, 10000000)"
   ]
  },
  {
   "cell_type": "code",
   "execution_count": 28,
   "id": "970f2ed5-52df-4259-acda-532fe0b909ea",
   "metadata": {},
   "outputs": [
    {
     "data": {
      "text/plain": [
       "2777.777777777778"
      ]
     },
     "execution_count": 28,
     "metadata": {},
     "output_type": "execute_result"
    }
   ],
   "source": [
    "10000000/(60*60)"
   ]
  },
  {
   "cell_type": "code",
   "execution_count": 29,
   "id": "757cbef2-db26-4c64-b345-f0b99e4ef7e5",
   "metadata": {},
   "outputs": [
    {
     "data": {
      "text/plain": [
       "3.7335722819593786"
      ]
     },
     "execution_count": 29,
     "metadata": {},
     "output_type": "execute_result"
    }
   ],
   "source": [
    "10000000/(60*60*24*31)  # number of month"
   ]
  },
  {
   "cell_type": "markdown",
   "id": "9af751f9-e402-46be-893f-18b588ef4852",
   "metadata": {},
   "source": [
    "## Plot to visualise final profile as a function of velocity"
   ]
  },
  {
   "cell_type": "code",
   "execution_count": 30,
   "id": "3e06b698-1aa4-40f9-bc88-9a9887eac2ac",
   "metadata": {},
   "outputs": [],
   "source": [
    "import matplotlib.pyplot as plt"
   ]
  },
  {
   "cell_type": "code",
   "execution_count": 31,
   "id": "0eac8e7b-653f-4102-b045-f0736feb53f1",
   "metadata": {},
   "outputs": [],
   "source": [
    "# look for the temperature distribution between the two cracks for some given x=20m\n",
    "x_axis = mesh.geometry.x[(mesh.geometry.x[:,0]>=20-0.1) & (mesh.geometry.x[:,0]<=20+0.1) & (mesh.geometry.x[:,1]>35) & (mesh.geometry.x[:,1]<45)][:,1]\n",
    "T_axis = T_h.x.array[(mesh.geometry.x[:,0]>=20-0.1) & (mesh.geometry.x[:,0]<=20+0.1) & (mesh.geometry.x[:,1]>=35) & (mesh.geometry.x[:,1]<=45)]\n",
    "# sort these pressures according to the radial distance from point A \n",
    "index_order = np.argsort(x_axis)\n",
    "x_numerical = x_axis[index_order]\n",
    "T_numerical = T_axis[index_order]\n",
    "#np.save(\"saved_data/velocity1.npy\", T_numerical)"
   ]
  },
  {
   "cell_type": "code",
   "execution_count": 32,
   "id": "d8e78400-5347-41ef-b835-2f3f0b9aa144",
   "metadata": {},
   "outputs": [
    {
     "data": {
      "image/png": "[encoded data removed]",
      "text/plain": [
       "<Figure size 576x432 with 1 Axes>"
      ]
     },
     "metadata": {
      "needs_background": "light"
     },
     "output_type": "display_data"
    }
   ],
   "source": [
    "import os\n",
    "# plot with matplotlib\n",
    "\n",
    "# x axis for analytical solution\n",
    "x = np.arange(0., 5-0.1, 0.001)\n",
    "# compute analytical solution for all points\n",
    "T_analytical_v = []\n",
    "for x_i in x:\n",
    "    T_analytical_v.append(T_analytical(Tinj, Text, diff_g, x_i, 10000000))\n",
    "T_analytical_v = np.array(T_analytical_v)\n",
    "\n",
    "# plot\n",
    "#plt.plot(x+35.1, T_analytical_v, 'r--', x+35.1+5-0.1, T_analytical_v[::-1], 'r--', x_numerical, T_numerical, '*')\n",
    "#plt.xlim(35+0.1, 45-0.1)\n",
    "#plt.show()\n",
    "plt.figure(figsize=(8, 6))\n",
    "colours = [\"paleturquoise\", \"darkturquoise\", \"cadetblue\", \"darkslategray\", \"navy\"]\n",
    "for ind, file in enumerate(sorted(os.listdir(\"saved_data\"))):\n",
    "    T_axis = np.load(\"saved_data/\"+file)\n",
    "    plt.plot(x_numerical, T_axis, '-', c = colours[ind])\n",
    "#plt.plot(x+35.1, T_analytical_v, 'r--')\n",
    "#plt.plot(x+35.1+5-0.1, T_analytical_v[::-1], 'r--')\n",
    "plt.legend([\"Numerical v=0.0001m/s\", \"Numerical v=0.001m/s\", \"Numerical v=0.01m/s\", \"Numerical v=0.1m/s\", \"Numerical v=1m/s\", \"1D Analytical for v=1m/s\"], loc=(1.04,0.34), fontsize = 15)\n",
    "plt.xlim(35+0.1, 45-0.1)\n",
    "plt.xticks(fontsize=15)\n",
    "plt.yticks(fontsize=15)\n",
    "plt.xlabel('y [m]', fontsize=15)\n",
    "plt.ylabel('Temperature [K]', fontsize=15) \n",
    "plt.savefig(\"2cracksVelocityEvolution.png\", bbox_inches=\"tight\")\n",
    "plt.show()"
   ]
  },
  {
   "cell_type": "markdown",
   "id": "4ac5cc7b-cb4d-4093-b5b7-f790c36ee081",
   "metadata": {},
   "source": [
    "## Plot the stored energy as a function of velocity"
   ]
  },
  {
   "cell_type": "code",
   "execution_count": 33,
   "id": "01baa36e-d528-4659-bd53-446a400b1554",
   "metadata": {},
   "outputs": [
    {
     "data": {
      "image/png": "[encoded data removed]",
      "text/plain": [
       "<Figure size 432x288 with 1 Axes>"
      ]
     },
     "metadata": {
      "needs_background": "light"
     },
     "output_type": "display_data"
    }
   ],
   "source": [
    "# this data has been saved \"by hand\" by looking at the stored energy for each simulation for a given velocity\n",
    "v = [0.0001, 0.001, 0.01, 0.1, 1.]\n",
    "E = [52021, 76336, 79617, 80361, 80477]\n",
    "plt.plot(v, E)\n",
    "plt.scatter(v, E, marker=',', c='r')\n",
    "plt.xscale('log')\n",
    "plt.xticks(fontsize=15)\n",
    "plt.yticks(fontsize=15)\n",
    "plt.xlabel('Fluid velocity [m/s]', fontsize=15)\n",
    "plt.ylabel('Stored energy [MJ/m]', fontsize=15) \n",
    "plt.savefig(\"2cracksEnergyEvolution.png\", bbox_inches=\"tight\")\n",
    "plt.show()"
   ]
  },
  {
   "cell_type": "markdown",
   "id": "a76bd2a0-fd97-4b87-b8f6-8da715daf5fe",
   "metadata": {},
   "source": [
    "## Plot to visualise profile as a function of time"
   ]
  },
  {
   "cell_type": "code",
   "execution_count": 34,
   "id": "e7819fbd-c84f-4c05-8d08-03932e9bd96f",
   "metadata": {},
   "outputs": [
    {
     "data": {
      "text/plain": [
       "4"
      ]
     },
     "execution_count": 34,
     "metadata": {},
     "output_type": "execute_result"
    }
   ],
   "source": [
    "# look for the pressures on L_bottom\n",
    "x_axis = mesh.geometry.x[(mesh.geometry.x[:,0]>=20-0.1) & (mesh.geometry.x[:,0]<=20+0.1) & (mesh.geometry.x[:,1]>35) & (mesh.geometry.x[:,1]<45)][:,1]\n",
    "index_order = np.argsort(x_axis)\n",
    "x_numerical = x_axis[index_order]\n",
    "for ind, T_axis in enumerate(T_vec):\n",
    "    T_vec[ind] = T_axis[index_order]\n",
    "len(T_vec)"
   ]
  },
  {
   "cell_type": "code",
   "execution_count": 35,
   "id": "3cb340d2-d6e3-4791-bca9-0b2badaab690",
   "metadata": {},
   "outputs": [
    {
     "data": {
      "image/png": "[encoded data removed]",
      "text/plain": [
       "<Figure size 576x432 with 1 Axes>"
      ]
     },
     "metadata": {
      "needs_background": "light"
     },
     "output_type": "display_data"
    }
   ],
   "source": [
    "# plot with matplotlib\n",
    "\n",
    "# x axis for analytical solution\n",
    "x = np.arange(0., 5-0.1, 0.001)\n",
    "\n",
    "# plot\n",
    "plt.figure(figsize=(8, 6))\n",
    "colours = [\"paleturquoise\", \"darkturquoise\", \"cadetblue\", \"darkslategray\"]\n",
    "for ind, T_axis in enumerate(T_vec):\n",
    "    plt.plot(x_numerical, T_axis, '-', c = colours[ind])\n",
    "plt.plot(x+35.1, T_analytical_v, 'r--')\n",
    "#plt.plot(x+35.1+5-0.1, T_analytical_v[::-1], 'r--')\n",
    "plt.legend([\"Numerical t=10'000s\", \"Numerical t=100'000s\", \"Numerical t=1'000'000s\", \"Numerical t=10'000'000s\", \"1D Analytical for t=10'000'000s\"], loc=(1.04,0.34), fontsize = 15)\n",
    "plt.xlim(35+0.1, 45-0.1)\n",
    "plt.xticks(fontsize=15)\n",
    "plt.yticks(fontsize=15)\n",
    "plt.xlabel('d [m]', fontsize=15)\n",
    "plt.ylabel('Temperature [K]', fontsize=15) \n",
    "plt.savefig(\"2cracksTimeEvolution.png\", bbox_inches=\"tight\")\n",
    "plt.show()"
   ]
  },
  {
   "cell_type": "code",
   "execution_count": null,
   "id": "5cffcd82-b250-48f9-bf9d-2288b8af8248",
   "metadata": {},
   "outputs": [],
   "source": []
  }
 ],
 "metadata": {
  "kernelspec": {
   "display_name": "Python 3 (ipykernel)",
   "language": "python",
   "name": "python3"
  },
  "language_info": {
   "codemirror_mode": {
    "name": "ipython",
    "version": 3
   },
   "file_extension": ".py",
   "mimetype": "text/x-python",
   "name": "python",
   "nbconvert_exporter": "python",
   "pygments_lexer": "ipython3",
   "version": "3.9.7"
  }
 },
 "nbformat": 4,
 "nbformat_minor": 5
}
