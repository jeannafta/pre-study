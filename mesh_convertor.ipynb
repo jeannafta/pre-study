{
 "cells": [
  {
   "cell_type": "code",
   "execution_count": 1,
   "id": "78831cc6",
   "metadata": {},
   "outputs": [],
   "source": [
    "import meshio\n",
    "import numpy"
   ]
  },
  {
   "cell_type": "code",
   "execution_count": 2,
   "id": "2fc9267d",
   "metadata": {},
   "outputs": [],
   "source": [
    "# Read in mesh\n",
    "msh = meshio.read(\"rectangle2D.msh\")"
   ]
  },
  {
   "cell_type": "code",
   "execution_count": 4,
   "id": "074bfa07",
   "metadata": {},
   "outputs": [],
   "source": [
    "# Helper function to extract the cells and physical data\n",
    "def create_mesh(mesh, cell_type, prune_z=False):\n",
    "    cells = mesh.get_cells_type(cell_type)\n",
    "    cell_data = mesh.get_cell_data(\"gmsh:physical\", cell_type)\n",
    "    points = mesh.points[:,:2] if prune_z else mesh.points\n",
    "    out_mesh = meshio.Mesh(points=points, cells={cell_type: cells}, cell_data={\"name_to_read\":[cell_data]})\n",
    "    return out_mesh"
   ]
  },
  {
   "cell_type": "code",
   "execution_count": 5,
   "id": "807023cf",
   "metadata": {},
   "outputs": [],
   "source": [
    "# Convert mesh to XDMF\n",
    "line_mesh = create_mesh(mesh_from_file, \"line\", prune_z=True)\n",
    "meshio.write(\"facet_mesh.xdmf\", line_mesh)\n",
    "\n",
    "triangle_mesh = create_mesh(mesh_from_file, \"triangle\", prune_z=True)\n",
    "meshio.write(\"mesh.xdmf\", triangle_mesh)\n"
   ]
  },
  {
   "cell_type": "code",
   "execution_count": null,
   "id": "657eeecf",
   "metadata": {},
   "outputs": [],
   "source": []
  }
 ],
 "metadata": {
  "kernelspec": {
   "display_name": "Python 3 (ipykernel)",
   "language": "python",
   "name": "python3"
  },
  "language_info": {
   "codemirror_mode": {
    "name": "ipython",
    "version": 3
   },
   "file_extension": ".py",
   "mimetype": "text/x-python",
   "name": "python",
   "nbconvert_exporter": "python",
   "pygments_lexer": "ipython3",
   "version": "3.8.5"
  }
 },
 "nbformat": 4,
 "nbformat_minor": 5
}
