{
 "cells": [
  {
   "cell_type": "markdown",
   "id": "e4129b01-a515-4b10-a529-b96cd54c9bf6",
   "metadata": {},
   "source": [
    "# Solve fluid diffusion equation in a the 2D domain with one fracture and an imposed flux on L_left (2 materials)"
   ]
  },
  {
   "cell_type": "code",
   "execution_count": 1,
   "id": "ed3a2246-8f51-4d77-bd2b-e6e7e7eaae02",
   "metadata": {},
   "outputs": [],
   "source": [
    "import numpy as np\n",
    "from mpi4py import MPI\n",
    "import pyvista\n",
    "import ufl\n",
    "\n",
    "from ufl import Measure\n",
    "\n",
    "from dolfinx import fem, plot\n",
    "from dolfinx.io import XDMFFile\n",
    "from dolfinx.fem import FunctionSpace, Constant, Function\n",
    "from dolfinx.mesh import locate_entities\n",
    "\n",
    "from petsc4py import PETSc\n",
    "from petsc4py.PETSc import ScalarType"
   ]
  },
  {
   "cell_type": "markdown",
   "id": "f1f46ac9-3651-4102-bee4-4b337bc1a5cb",
   "metadata": {},
   "source": [
    "## Read the mesh"
   ]
  },
  {
   "cell_type": "code",
   "execution_count": 2,
   "id": "8e3acc15-50f0-4b57-8d99-e0b51469278d",
   "metadata": {},
   "outputs": [],
   "source": [
    "# Read the mesh\n",
    "with XDMFFile(MPI.COMM_WORLD, \"mesh_2D/1crack2D_mesh.xdmf\", \"r\") as xdmf:\n",
    "    mesh = xdmf.read_mesh(name=\"Grid\")\n",
    "    cell_tags = xdmf.read_meshtags(mesh, name=\"Grid\")\n",
    "mesh.topology.create_connectivity(mesh.topology.dim-1, mesh.topology.dim)\n",
    "\n",
    "with XDMFFile(MPI.COMM_WORLD, \"mesh_2D/1crack2D_facet_mesh.xdmf\", \"r\") as xdmf:\n",
    "    facet_tags = xdmf.read_meshtags(mesh, name=\"Grid\")"
   ]
  },
  {
   "cell_type": "markdown",
   "id": "9a0df42b-7dd3-4fae-a319-3c9a5abe28c1",
   "metadata": {},
   "source": [
    "## Plot the mesh"
   ]
  },
  {
   "cell_type": "code",
   "execution_count": 3,
   "id": "dc7ee12e-04ec-42ad-ae34-e637b0db6ee5",
   "metadata": {},
   "outputs": [
    {
     "data": {
      "application/vnd.jupyter.widget-view+json": {
       "model_id": "2bf0f31bb1184491bd9a9b711475894c",
       "version_major": 2,
       "version_minor": 0
      },
      "text/plain": [
       "Renderer(camera=PerspectiveCamera(aspect=1.3333333333333333, children=(DirectionalLight(intensity=0.25, positi…"
      ]
     },
     "metadata": {},
     "output_type": "display_data"
    }
   ],
   "source": [
    "topology, cell_types, geometry = plot.create_vtk_mesh(mesh, mesh.topology.dim)\n",
    "grid = pyvista.UnstructuredGrid(topology, cell_types, geometry)\n",
    "\n",
    "pyvista.set_jupyter_backend(\"pythreejs\")\n",
    "\n",
    "plotter = pyvista.Plotter()\n",
    "plotter.add_mesh(grid, show_edges=True)\n",
    "plotter.view_xy()\n",
    "plotter.show()"
   ]
  },
  {
   "cell_type": "markdown",
   "id": "cd754268-08e8-49c9-a28b-86649b30303b",
   "metadata": {},
   "source": [
    "## Define temporal parameters"
   ]
  },
  {
   "cell_type": "code",
   "execution_count": 4,
   "id": "e0ed2add-74bd-4e5a-aa79-3c1fac3a7420",
   "metadata": {},
   "outputs": [],
   "source": [
    "t = 0 # Start time\n",
    "T = 1000.0 # Final time 1000\n",
    "num_steps = 50     \n",
    "dt = T / num_steps # time step size"
   ]
  },
  {
   "cell_type": "markdown",
   "id": "7e945caa-75cb-4a14-886b-a3433b346ec5",
   "metadata": {},
   "source": [
    "## Finite element function space"
   ]
  },
  {
   "cell_type": "code",
   "execution_count": 5,
   "id": "20fed568-6c2b-48e4-bb56-d4b2f012494e",
   "metadata": {},
   "outputs": [],
   "source": [
    "V = FunctionSpace(mesh, (\"CG\", 1))  # Lagrange element and linear elements (degree 1)"
   ]
  },
  {
   "cell_type": "markdown",
   "id": "856f4a50-5e0d-4d3f-b34a-4b5cd7e96dff",
   "metadata": {},
   "source": [
    "## Set initial conditions"
   ]
  },
  {
   "cell_type": "code",
   "execution_count": 6,
   "id": "58872d94-7bab-441d-8230-5cb0b6ea83f3",
   "metadata": {},
   "outputs": [],
   "source": [
    "p_n = Function(V)\n",
    "p_n.name = \"p_n\""
   ]
  },
  {
   "cell_type": "markdown",
   "id": "2bb8b31c-add2-439a-af2a-ff5d59df7cec",
   "metadata": {},
   "source": [
    "## Boundary conditions"
   ]
  },
  {
   "cell_type": "code",
   "execution_count": 7,
   "id": "6a44d13e-5b5d-4831-8ac5-8ae2d863d203",
   "metadata": {},
   "outputs": [],
   "source": [
    "# DIRICHLET: p=0 on all Dirichlet BC (side 4)\n",
    "boundary_dofs = fem.locate_dofs_topological(V, mesh.topology.dim-1, facet_tags.indices[facet_tags.values == 4])\n",
    "bc = fem.dirichletbc(ScalarType(0), boundary_dofs, V)\n",
    "\n",
    "# NEUMANN: dp/dn=-10 on the left side (side 3)\n",
    "# here we only want to integrate on the left side so we can create a custom integration measure ds which only integrates over facets marked with value i\n",
    "ds = Measure(\"ds\", domain=mesh, subdomain_data=facet_tags)\n",
    "g = -4"
   ]
  },
  {
   "cell_type": "markdown",
   "id": "e9f08a97-16a2-48c2-a35e-402259106678",
   "metadata": {},
   "source": [
    "## Time-dependent output"
   ]
  },
  {
   "cell_type": "code",
   "execution_count": 8,
   "id": "0643fe68-4edd-4ab3-b28d-de56cca54a40",
   "metadata": {},
   "outputs": [],
   "source": [
    "p_h = p_n.copy()\n",
    "p_h.name = \"p_h\""
   ]
  },
  {
   "cell_type": "markdown",
   "id": "af7d5ff2-3902-46eb-900f-a07c99b7dda4",
   "metadata": {},
   "source": [
    "## Trial and test functions"
   ]
  },
  {
   "cell_type": "code",
   "execution_count": 9,
   "id": "85c2bd62-d77d-47d3-8cc2-07467789e1f9",
   "metadata": {},
   "outputs": [],
   "source": [
    "p, r = ufl.TrialFunction(V), ufl.TestFunction(V)"
   ]
  },
  {
   "cell_type": "markdown",
   "id": "79e386c1-cc17-402c-a221-e263a4fa8bf7",
   "metadata": {},
   "source": [
    "## Source term"
   ]
  },
  {
   "cell_type": "code",
   "execution_count": 10,
   "id": "0bc4d789-e6f1-448b-a5bf-7c1d8c24ce89",
   "metadata": {},
   "outputs": [],
   "source": [
    "# here f=0 as there is no source term\n",
    "f = fem.Constant(mesh, ScalarType(0))"
   ]
  },
  {
   "cell_type": "markdown",
   "id": "f06cce45-3427-4277-9d78-b0a215ac8622",
   "metadata": {},
   "source": [
    "## Material parameters"
   ]
  },
  {
   "cell_type": "code",
   "execution_count": 11,
   "id": "42fd7cfd-ba88-459b-b657-5b6fe372568a",
   "metadata": {},
   "outputs": [],
   "source": [
    "# this link could help later when I will have physical volumes: https://fenicsproject.discourse.group/t/subdomain-for-different-materials-based-on-physical-volume/3541\n",
    "\n",
    "# constant storage coefficient over the domain\n",
    "S = 1 \n",
    "\n",
    "# varying permeability over the domain: \n",
    "Q = FunctionSpace(mesh, (\"DG\", 0))\n",
    "kappa = Function(Q)\n",
    "# very low permeability in the rock\n",
    "rock_mask = (cell_tags.values == 5) | (cell_tags.values == 6)\n",
    "kappa.x.array[rock_mask] = np.full(rock_mask.sum(), 0.000001)\n",
    "# hight permeability in the fracture\n",
    "fracture_mask = (cell_tags.values == 7)\n",
    "kappa.x.array[fracture_mask] = np.full(fracture_mask.sum(), 1)"
   ]
  },
  {
   "cell_type": "markdown",
   "id": "e67bca08-debd-4618-8683-6ba837c340c9",
   "metadata": {},
   "source": [
    "## Variational problem"
   ]
  },
  {
   "cell_type": "markdown",
   "id": "a4f00836-bdc2-4127-a6a9-16b3013a46b9",
   "metadata": {},
   "source": [
    "As the test function is zero on the boundary integrals over the Dirichlet boundary, we can integrate g*v*ds over the entire boundary."
   ]
  },
  {
   "cell_type": "code",
   "execution_count": 12,
   "id": "2f7a7b40-2d48-42f4-be7b-e2c8b350a296",
   "metadata": {},
   "outputs": [],
   "source": [
    "a = S * p * r * ufl.dx + dt * kappa * ufl.dot(ufl.grad(p), ufl.grad(r)) * ufl.dx \n",
    "L = (S * p_n + dt * f) * r * ufl.dx - dt * g * r * ds(3)"
   ]
  },
  {
   "cell_type": "markdown",
   "id": "564bab74-c240-4139-b3f9-381a2458ad80",
   "metadata": {},
   "source": [
    "## Preparation of linear algebra structures for time dependent problems"
   ]
  },
  {
   "cell_type": "code",
   "execution_count": 13,
   "id": "7ba7f795-5167-4f26-aaf8-9f81c269b819",
   "metadata": {},
   "outputs": [],
   "source": [
    "bilinear_form = fem.form(a)\n",
    "linear_form = fem.form(L)"
   ]
  },
  {
   "cell_type": "code",
   "execution_count": 14,
   "id": "7323bec8-bd36-4af9-b176-50489f0b9aff",
   "metadata": {},
   "outputs": [],
   "source": [
    "# bilinear_form (a) isn't time dependant so we can assemble it once (we could do the same for the integral of the Neumann term as the flux is contant, but for now let's stay like that)\n",
    "A = fem.petsc.assemble_matrix(bilinear_form, bcs=[bc])\n",
    "A.assemble()\n",
    "b = fem.petsc.create_vector(linear_form)"
   ]
  },
  {
   "cell_type": "markdown",
   "id": "ac7ef9fe-b7d2-43d9-98a0-32af2ad7d54c",
   "metadata": {},
   "source": [
    "## Linear solver"
   ]
  },
  {
   "cell_type": "code",
   "execution_count": 15,
   "id": "7cdcbc9e-dde2-4df6-b454-6a42a557d363",
   "metadata": {},
   "outputs": [],
   "source": [
    "# here matrix A is already assembled so we don't need to use petsc.LinearProblem like in tuto1\n",
    "solver = PETSc.KSP().create(mesh.comm)\n",
    "solver.setOperators(A)\n",
    "solver.setType(PETSc.KSP.Type.PREONLY)\n",
    "solver.getPC().setType(PETSc.PC.Type.LU)"
   ]
  },
  {
   "cell_type": "code",
   "execution_count": 16,
   "id": "37574b58-5e8b-4643-92f9-2d201149be27",
   "metadata": {},
   "outputs": [
    {
     "data": {
      "application/vnd.jupyter.widget-view+json": {
       "model_id": "528a7d23761446358108f28b74e8a5b3",
       "version_major": 2,
       "version_minor": 0
      },
      "text/plain": [
       "AppLayout(children=(VBox(children=(HTML(value='<h3>u(0)</h3>'), Dropdown(description='Colormap:', options={'Br…"
      ]
     },
     "metadata": {},
     "output_type": "display_data"
    }
   ],
   "source": [
    "import pyvista\n",
    "pyvista.set_jupyter_backend(\"ipygany\")\n",
    "\n",
    "grid = pyvista.UnstructuredGrid(*plot.create_vtk_mesh(V))\n",
    "\n",
    "def plot_function(t, uh):\n",
    "    \"\"\"\n",
    "    Create a figure of the concentration uh warped visualized in 3D at timet step t.\n",
    "    \"\"\"\n",
    "    p = pyvista.Plotter()\n",
    "    # Update point values on pyvista grid\n",
    "    grid.point_data[f\"u({t})\"] = uh.x.array.real\n",
    "    # Warp mesh by point values\n",
    "    warped = grid.warp_by_scalar(f\"u({t})\", factor=1.5)\n",
    "\n",
    "    # Add mesh to plotter and visualize in notebook or save as figure\n",
    "    actor = p.add_mesh(warped)\n",
    "    if not pyvista.OFF_SCREEN:\n",
    "        p.show()\n",
    "    else:\n",
    "        pyvista.start_xvfb()\n",
    "        figure_as_array = p.screenshot(f\"diffusion_{t:.2f}.png\")\n",
    "        # Clear plotter for next plot\n",
    "        p.remove_actor(actor)\n",
    "plot_function(0, p_h)"
   ]
  },
  {
   "cell_type": "code",
   "execution_count": 17,
   "id": "820275e7-10ad-405b-b30f-f3a4ea194e9c",
   "metadata": {},
   "outputs": [
    {
     "data": {
      "application/vnd.jupyter.widget-view+json": {
       "model_id": "991d627dfe16403681274bbb90eee9bc",
       "version_major": 2,
       "version_minor": 0
      },
      "text/plain": [
       "AppLayout(children=(VBox(children=(HTML(value='<h3>u(20.0)</h3>'), Dropdown(description='Colormap:', options={…"
      ]
     },
     "metadata": {},
     "output_type": "display_data"
    },
    {
     "data": {
      "application/vnd.jupyter.widget-view+json": {
       "model_id": "d0790c84e9564efd9a3551c9f48a2198",
       "version_major": 2,
       "version_minor": 0
      },
      "text/plain": [
       "AppLayout(children=(VBox(children=(HTML(value='<h3>u(320.0)</h3>'), Dropdown(description='Colormap:', options=…"
      ]
     },
     "metadata": {},
     "output_type": "display_data"
    },
    {
     "data": {
      "application/vnd.jupyter.widget-view+json": {
       "model_id": "eb8695e5a11b498890f497efa6078b35",
       "version_major": 2,
       "version_minor": 0
      },
      "text/plain": [
       "AppLayout(children=(VBox(children=(HTML(value='<h3>u(620.0)</h3>'), Dropdown(description='Colormap:', options=…"
      ]
     },
     "metadata": {},
     "output_type": "display_data"
    },
    {
     "data": {
      "application/vnd.jupyter.widget-view+json": {
       "model_id": "6e9d66b2e9e544a8a8874b23185c59ee",
       "version_major": 2,
       "version_minor": 0
      },
      "text/plain": [
       "AppLayout(children=(VBox(children=(HTML(value='<h3>u(920.0)</h3>'), Dropdown(description='Colormap:', options=…"
      ]
     },
     "metadata": {},
     "output_type": "display_data"
    }
   ],
   "source": [
    "for i in range(num_steps):\n",
    "    t += dt\n",
    "\n",
    "    # Update the right hand side reusing the initial vector\n",
    "    with b.localForm() as loc_b:\n",
    "        loc_b.set(0)\n",
    "    fem.petsc.assemble_vector(b, linear_form)\n",
    "    \n",
    "    # Apply Dirichlet boundary condition to the vector\n",
    "    fem.petsc.apply_lifting(b, [bilinear_form], [[bc]])\n",
    "    b.ghostUpdate(addv=PETSc.InsertMode.ADD_VALUES, mode=PETSc.ScatterMode.REVERSE)\n",
    "    fem.petsc.set_bc(b, [bc])\n",
    "\n",
    "    # Solve linear problem\n",
    "    solver.solve(b, p_h.vector)\n",
    "    p_h.x.scatter_forward()\n",
    "\n",
    "    # Update solution at previous time step (u_n)\n",
    "    p_n.x.array[:] = p_h.x.array\n",
    "\n",
    "    # Plot every 15th time step\n",
    "    if i % 15 == 0:\n",
    "        plot_function(t, p_h)"
   ]
  },
  {
   "cell_type": "markdown",
   "id": "0aef0a18-ac38-4afd-ab5f-4f4d06071a75",
   "metadata": {},
   "source": [
    "## Post-processing"
   ]
  },
  {
   "cell_type": "markdown",
   "id": "95324c35-9826-4057-a041-507ea652f993",
   "metadata": {},
   "source": [
    "We can compare the obtained steady state with the one computed by hand"
   ]
  },
  {
   "cell_type": "code",
   "execution_count": 18,
   "id": "9b7680cb-00d2-4d8e-be89-6f35ff7581aa",
   "metadata": {},
   "outputs": [],
   "source": [
    "import matplotlib.pyplot as plt"
   ]
  },
  {
   "cell_type": "code",
   "execution_count": 19,
   "id": "61359656-7ed3-4a15-ac8c-92817cb96382",
   "metadata": {},
   "outputs": [],
   "source": [
    "# analytical solution for a 1D diffusion in steady state\n",
    "def p_analytical(x):\n",
    "    source = -g  # same flow as Neumann\n",
    "    L = 10\n",
    "    kappa = 1\n",
    "    return source/kappa*(L-x)"
   ]
  },
  {
   "cell_type": "code",
   "execution_count": 20,
   "id": "6236d852-d286-474c-8a0b-9374c74ea180",
   "metadata": {},
   "outputs": [],
   "source": [
    "# look for the pressures on L_middle\n",
    "x_bottom = mesh.geometry.x[np.isclose(mesh.geometry.x[:,1], 5.1*np.ones(mesh.geometry.x[:,1].size))][:,0]\n",
    "p_bottom = p_h.x.array[np.isclose(mesh.geometry.x[:,1], 5.1*np.ones(mesh.geometry.x[:,1].size))]\n",
    "# sort these pressures according to the radial distance from point A \n",
    "index_order = np.argsort(x_bottom)\n",
    "x_numerical = x_bottom[index_order]\n",
    "p_numerical = p_bottom[index_order]"
   ]
  },
  {
   "cell_type": "code",
   "execution_count": 21,
   "id": "eeeeecfa-3667-4a6c-adc2-519411a076b5",
   "metadata": {},
   "outputs": [
    {
     "data": {
      "image/png": "[encoded data removed]",
      "text/plain": [
       "<Figure size 432x288 with 1 Axes>"
      ]
     },
     "metadata": {
      "needs_background": "light"
     },
     "output_type": "display_data"
    }
   ],
   "source": [
    "# plot with matplotlib\n",
    "\n",
    "# x axis for analytical solution\n",
    "x = np.arange(0., 10., 0.01)\n",
    "\n",
    "# plot\n",
    "plt.plot(x, p_analytical(x), 'r-', x_numerical, p_numerical, '*')\n",
    "plt.show()"
   ]
  },
  {
   "cell_type": "code",
   "execution_count": null,
   "id": "f4121ca4-7db0-46f2-ac83-2aa5e2589589",
   "metadata": {},
   "outputs": [],
   "source": []
  }
 ],
 "metadata": {
  "kernelspec": {
   "display_name": "Python 3 (ipykernel)",
   "language": "python",
   "name": "python3"
  },
  "language_info": {
   "codemirror_mode": {
    "name": "ipython",
    "version": 3
   },
   "file_extension": ".py",
   "mimetype": "text/x-python",
   "name": "python",
   "nbconvert_exporter": "python",
   "pygments_lexer": "ipython3",
   "version": "3.9.7"
  }
 },
 "nbformat": 4,
 "nbformat_minor": 5
}
