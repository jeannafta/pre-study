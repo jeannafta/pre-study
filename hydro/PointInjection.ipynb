{
 "cells": [
  {
   "cell_type": "markdown",
   "id": "e4129b01-a515-4b10-a529-b96cd54c9bf6",
   "metadata": {},
   "source": [
    "# Solve fluid diffusion equation in a square domain with imposed flux on the bottom left corner (point injection)"
   ]
  },
  {
   "cell_type": "code",
   "execution_count": 1,
   "id": "ed3a2246-8f51-4d77-bd2b-e6e7e7eaae02",
   "metadata": {},
   "outputs": [],
   "source": [
    "import numpy as np\n",
    "from mpi4py import MPI\n",
    "import pyvista\n",
    "import ufl\n",
    "import dolfinx \n",
    "\n",
    "from dolfinx import fem, plot\n",
    "from dolfinx.io import XDMFFile\n",
    "from dolfinx.fem import FunctionSpace, Constant, Function\n",
    "\n",
    "from petsc4py import PETSc\n",
    "from petsc4py.PETSc import ScalarType"
   ]
  },
  {
   "cell_type": "markdown",
   "id": "f1f46ac9-3651-4102-bee4-4b337bc1a5cb",
   "metadata": {},
   "source": [
    "## Read the mesh"
   ]
  },
  {
   "cell_type": "code",
   "execution_count": 2,
   "id": "8e3acc15-50f0-4b57-8d99-e0b51469278d",
   "metadata": {},
   "outputs": [],
   "source": [
    "# Read the mesh\n",
    "with XDMFFile(MPI.COMM_WORLD, \"mesh_square/square_mesh.xdmf\", \"r\") as xdmf:\n",
    "    mesh = xdmf.read_mesh(name=\"Grid\")\n",
    "    cell_tags = xdmf.read_meshtags(mesh, name=\"Grid\")\n",
    "mesh.topology.create_connectivity(mesh.topology.dim-1, mesh.topology.dim)\n",
    "\n",
    "with XDMFFile(MPI.COMM_WORLD, \"mesh_square/square_facet_mesh.xdmf\", \"r\") as xdmf:\n",
    "    facet_tags = xdmf.read_meshtags(mesh, name=\"Grid\")"
   ]
  },
  {
   "cell_type": "markdown",
   "id": "9a0df42b-7dd3-4fae-a319-3c9a5abe28c1",
   "metadata": {},
   "source": [
    "## Plot the mesh"
   ]
  },
  {
   "cell_type": "code",
   "execution_count": 3,
   "id": "dc7ee12e-04ec-42ad-ae34-e637b0db6ee5",
   "metadata": {},
   "outputs": [
    {
     "data": {
      "application/vnd.jupyter.widget-view+json": {
       "model_id": "8013d347ef714c54801b98d0ed1829ce",
       "version_major": 2,
       "version_minor": 0
      },
      "text/plain": [
       "Renderer(camera=PerspectiveCamera(aspect=1.3333333333333333, children=(DirectionalLight(intensity=0.25, positi…"
      ]
     },
     "metadata": {},
     "output_type": "display_data"
    }
   ],
   "source": [
    "topology, cell_types, geometry = plot.create_vtk_mesh(mesh, mesh.topology.dim)\n",
    "grid = pyvista.UnstructuredGrid(topology, cell_types, geometry)\n",
    "\n",
    "pyvista.set_jupyter_backend(\"pythreejs\")\n",
    "\n",
    "plotter = pyvista.Plotter()\n",
    "plotter.add_mesh(grid, show_edges=True)\n",
    "plotter.view_xy()\n",
    "plotter.show()"
   ]
  },
  {
   "cell_type": "markdown",
   "id": "cd754268-08e8-49c9-a28b-86649b30303b",
   "metadata": {},
   "source": [
    "## Define temporal parameters"
   ]
  },
  {
   "cell_type": "code",
   "execution_count": 4,
   "id": "e0ed2add-74bd-4e5a-aa79-3c1fac3a7420",
   "metadata": {},
   "outputs": [],
   "source": [
    "t = 0 # Start time\n",
    "T = 80.0 # Final time\n",
    "num_steps = 40     \n",
    "dt = T / num_steps # time step size"
   ]
  },
  {
   "cell_type": "markdown",
   "id": "7e945caa-75cb-4a14-886b-a3433b346ec5",
   "metadata": {},
   "source": [
    "## Finite element function space"
   ]
  },
  {
   "cell_type": "code",
   "execution_count": 5,
   "id": "20fed568-6c2b-48e4-bb56-d4b2f012494e",
   "metadata": {},
   "outputs": [],
   "source": [
    "V = FunctionSpace(mesh, (\"CG\", 1))  # Lagrange element and and linear elements (degree 1)"
   ]
  },
  {
   "cell_type": "markdown",
   "id": "856f4a50-5e0d-4d3f-b34a-4b5cd7e96dff",
   "metadata": {},
   "source": [
    "## Set initial conditions"
   ]
  },
  {
   "cell_type": "code",
   "execution_count": 6,
   "id": "69be08ec-de9b-49d1-8ee3-745a90aa214f",
   "metadata": {},
   "outputs": [],
   "source": [
    "# by default all values are 0 if not initialized\n",
    "p_n = Function(V)\n",
    "p_n.name = \"p_n\""
   ]
  },
  {
   "cell_type": "markdown",
   "id": "2bb8b31c-add2-439a-af2a-ff5d59df7cec",
   "metadata": {},
   "source": [
    "## Boundary conditions"
   ]
  },
  {
   "cell_type": "code",
   "execution_count": 7,
   "id": "6a44d13e-5b5d-4831-8ac5-8ae2d863d203",
   "metadata": {},
   "outputs": [],
   "source": [
    "# DIRICHLET: p=0 on all Dirichlet BC (sides 2 and 4)\n",
    "boundary_dofs = fem.locate_dofs_topological(V, mesh.topology.dim-1, facet_tags.indices[(facet_tags.values == 3) | (facet_tags.values == 5)])\n",
    "bc = fem.dirichletbc(ScalarType(0), boundary_dofs, V)\n",
    "\n",
    "# NEUMANN: 0 flux on sides 1 and 3"
   ]
  },
  {
   "cell_type": "markdown",
   "id": "e9f08a97-16a2-48c2-a35e-402259106678",
   "metadata": {},
   "source": [
    "## Time-dependent output"
   ]
  },
  {
   "cell_type": "code",
   "execution_count": 8,
   "id": "0643fe68-4edd-4ab3-b28d-de56cca54a40",
   "metadata": {},
   "outputs": [],
   "source": [
    "p_h = p_n.copy()\n",
    "p_h.name = \"p_h\""
   ]
  },
  {
   "cell_type": "markdown",
   "id": "af7d5ff2-3902-46eb-900f-a07c99b7dda4",
   "metadata": {},
   "source": [
    "## Trial and test functions"
   ]
  },
  {
   "cell_type": "code",
   "execution_count": 9,
   "id": "85c2bd62-d77d-47d3-8cc2-07467789e1f9",
   "metadata": {},
   "outputs": [],
   "source": [
    "p, r = ufl.TrialFunction(V), ufl.TestFunction(V)"
   ]
  },
  {
   "cell_type": "markdown",
   "id": "79e386c1-cc17-402c-a221-e263a4fa8bf7",
   "metadata": {},
   "source": [
    "## Source term"
   ]
  },
  {
   "cell_type": "code",
   "execution_count": 10,
   "id": "0bc4d789-e6f1-448b-a5bf-7c1d8c24ce89",
   "metadata": {},
   "outputs": [],
   "source": [
    "# see this discussion to understand how to implement source points: https://fenicsproject.discourse.group/t/dirac-delta-distribution-dolfinx/7532/3\n",
    "\n",
    "dofs = dolfinx.fem.locate_dofs_geometrical(V,  lambda x: np.isclose(x.T, [0, 0, 0]).all(axis=1))\n",
    "# or you could also use:\n",
    "#def on_A(x):\n",
    "#    return np.isclose(x[0], 0) & np.isclose(x[1], 0)\n",
    "#dofs = dolfinx.fem.locate_dofs_geometrical(V,  on_A)\n",
    "\n",
    "# p_h.x.array[dofs] = 10\n",
    "# CAREFUL: line above is false as we impose a constant flux on point A, not a constant pressure. See the loop for more info (we add the source term to vector b)."
   ]
  },
  {
   "cell_type": "markdown",
   "id": "e67bca08-debd-4618-8683-6ba837c340c9",
   "metadata": {},
   "source": [
    "## Variational problem"
   ]
  },
  {
   "cell_type": "markdown",
   "id": "a4f00836-bdc2-4127-a6a9-16b3013a46b9",
   "metadata": {},
   "source": [
    "As the test function is zero on the boundary integrals over the Dirichlet boundary, we can integrate g*v*ds over the entire boundary."
   ]
  },
  {
   "cell_type": "code",
   "execution_count": 11,
   "id": "42fd7cfd-ba88-459b-b657-5b6fe372568a",
   "metadata": {},
   "outputs": [],
   "source": [
    "#S = fem.Constant(mesh, ScalarType(1))\n",
    "#kappa = fem.Constant(mesh, ScalarType(1))\n",
    "\n",
    "S = 1 #1675\n",
    "kappa = 1 #100\n",
    "c = kappa/S"
   ]
  },
  {
   "cell_type": "code",
   "execution_count": 12,
   "id": "2f7a7b40-2d48-42f4-be7b-e2c8b350a296",
   "metadata": {},
   "outputs": [],
   "source": [
    "a = S * p * r * ufl.dx + dt * kappa * ufl.dot(ufl.grad(p), ufl.grad(r)) * ufl.dx \n",
    "L = (S * p_n) * r * ufl.dx\n",
    "\n",
    "# note: here we don't give f in the L term as it is a pointsource and not a function over the domain"
   ]
  },
  {
   "cell_type": "markdown",
   "id": "564bab74-c240-4139-b3f9-381a2458ad80",
   "metadata": {},
   "source": [
    "## Preparation of linear algebra structures for time dependent problems"
   ]
  },
  {
   "cell_type": "code",
   "execution_count": 13,
   "id": "7ba7f795-5167-4f26-aaf8-9f81c269b819",
   "metadata": {},
   "outputs": [],
   "source": [
    "bilinear_form = fem.form(a)\n",
    "linear_form = fem.form(L)"
   ]
  },
  {
   "cell_type": "code",
   "execution_count": 14,
   "id": "7323bec8-bd36-4af9-b176-50489f0b9aff",
   "metadata": {},
   "outputs": [],
   "source": [
    "# bilinear_form (a) isn't time dependant so we can assemble it once (we could do the same for the integral of the Neumann term as the flux is contant, but for now let's stay like that)\n",
    "A = fem.petsc.assemble_matrix(bilinear_form, bcs=[bc])\n",
    "A.assemble()\n",
    "b = fem.petsc.create_vector(linear_form)"
   ]
  },
  {
   "cell_type": "markdown",
   "id": "ac7ef9fe-b7d2-43d9-98a0-32af2ad7d54c",
   "metadata": {},
   "source": [
    "## Linear solver"
   ]
  },
  {
   "cell_type": "code",
   "execution_count": 15,
   "id": "7cdcbc9e-dde2-4df6-b454-6a42a557d363",
   "metadata": {},
   "outputs": [],
   "source": [
    "# here matrix A is already assembled so we don't need to use petsc.LinearProblem like in tuto1\n",
    "solver = PETSc.KSP().create(mesh.comm)\n",
    "solver.setOperators(A)\n",
    "solver.setType(PETSc.KSP.Type.PREONLY)\n",
    "solver.getPC().setType(PETSc.PC.Type.LU)"
   ]
  },
  {
   "cell_type": "code",
   "execution_count": 16,
   "id": "37574b58-5e8b-4643-92f9-2d201149be27",
   "metadata": {},
   "outputs": [
    {
     "data": {
      "application/vnd.jupyter.widget-view+json": {
       "model_id": "6ffb92d0aa90451abf23272ecda66b75",
       "version_major": 2,
       "version_minor": 0
      },
      "text/plain": [
       "AppLayout(children=(VBox(children=(HTML(value='<h3>u(0)</h3>'), Dropdown(description='Colormap:', options={'Br…"
      ]
     },
     "metadata": {},
     "output_type": "display_data"
    }
   ],
   "source": [
    "import pyvista\n",
    "pyvista.set_jupyter_backend(\"ipygany\")\n",
    "\n",
    "grid = pyvista.UnstructuredGrid(*plot.create_vtk_mesh(V))\n",
    "\n",
    "def plot_function(t, uh):\n",
    "    \"\"\"\n",
    "    Create a figure of the concentration uh warped visualized in 3D at timet step t.\n",
    "    \"\"\"\n",
    "    p = pyvista.Plotter()\n",
    "    # Update point values on pyvista grid\n",
    "    grid.point_data[f\"u({t})\"] = uh.x.array.real\n",
    "    # Warp mesh by point values\n",
    "    warped = grid.warp_by_scalar(f\"u({t})\", factor=1.5)\n",
    "\n",
    "    # Add mesh to plotter and visualize in notebook or save as figure\n",
    "    actor = p.add_mesh(warped)\n",
    "    if not pyvista.OFF_SCREEN:\n",
    "        p.show()\n",
    "    else:\n",
    "        pyvista.start_xvfb()\n",
    "        figure_as_array = p.screenshot(f\"diffusion_{t:.2f}.png\")\n",
    "        # Clear plotter for next plot\n",
    "        p.remove_actor(actor)\n",
    "plot_function(0, p_h)"
   ]
  },
  {
   "cell_type": "markdown",
   "id": "80a3bdac-7f7c-4c6e-bb56-d9639aa08fe0",
   "metadata": {},
   "source": [
    "## Update the solution and right hand side per time step "
   ]
  },
  {
   "cell_type": "code",
   "execution_count": 17,
   "id": "820275e7-10ad-405b-b30f-f3a4ea194e9c",
   "metadata": {},
   "outputs": [
    {
     "data": {
      "application/vnd.jupyter.widget-view+json": {
       "model_id": "5588c507fd954a42ba39d6249e6d7a62",
       "version_major": 2,
       "version_minor": 0
      },
      "text/plain": [
       "AppLayout(children=(VBox(children=(HTML(value='<h3>u(2.0)</h3>'), Dropdown(description='Colormap:', options={'…"
      ]
     },
     "metadata": {},
     "output_type": "display_data"
    },
    {
     "data": {
      "application/vnd.jupyter.widget-view+json": {
       "model_id": "9493e87e43a54fb3b3bd64e615f6eb15",
       "version_major": 2,
       "version_minor": 0
      },
      "text/plain": [
       "AppLayout(children=(VBox(children=(HTML(value='<h3>u(32.0)</h3>'), Dropdown(description='Colormap:', options={…"
      ]
     },
     "metadata": {},
     "output_type": "display_data"
    },
    {
     "data": {
      "application/vnd.jupyter.widget-view+json": {
       "model_id": "fbaed983850e47eeb19eb1d2ad3953e9",
       "version_major": 2,
       "version_minor": 0
      },
      "text/plain": [
       "AppLayout(children=(VBox(children=(HTML(value='<h3>u(62.0)</h3>'), Dropdown(description='Colormap:', options={…"
      ]
     },
     "metadata": {},
     "output_type": "display_data"
    }
   ],
   "source": [
    "for i in range(num_steps):\n",
    "    t += dt\n",
    "\n",
    "    # Update the right hand side reusing the initial vector\n",
    "    with b.localForm() as loc_b:\n",
    "        loc_b.set(0)\n",
    "    fem.petsc.assemble_vector(b, linear_form)\n",
    "    \n",
    "    # Apply Dirichlet boundary condition to the vector\n",
    "    fem.petsc.apply_lifting(b, [bilinear_form], [[bc]])\n",
    "    b.ghostUpdate(addv=PETSc.InsertMode.ADD_VALUES, mode=PETSc.ScatterMode.REVERSE)\n",
    "    fem.petsc.set_bc(b, [bc])\n",
    "    # add source point to vector b\n",
    "    b.array[dofs] = 10*dt\n",
    "        \n",
    "    # Solve linear problem\n",
    "    solver.solve(b, p_h.vector)\n",
    "    p_h.x.scatter_forward()\n",
    "\n",
    "    # Update solution at previous time step (u_n)\n",
    "    p_n.x.array[:] = p_h.x.array\n",
    "    \n",
    "    # Plot every 15th time step\n",
    "    if i % 15 == 0:\n",
    "        plot_function(t, p_h)"
   ]
  },
  {
   "cell_type": "markdown",
   "id": "85c6581f-9946-44f2-a2a9-4eeac1451e54",
   "metadata": {},
   "source": [
    "## Post-processing"
   ]
  },
  {
   "cell_type": "code",
   "execution_count": 18,
   "id": "5437b212-d506-42ef-a4f2-bb0d2a559cc8",
   "metadata": {},
   "outputs": [],
   "source": [
    "from scipy.special import exp1 \n",
    "import matplotlib.pyplot as plt"
   ]
  },
  {
   "cell_type": "code",
   "execution_count": 19,
   "id": "87d3120d-afc4-417a-8a06-9389af043772",
   "metadata": {},
   "outputs": [],
   "source": [
    "# analytical solution of 2D diffusion\n",
    "def p_analytical(r, t):\n",
    "    source = 10*4 # *4 because of double symetry\n",
    "    return source*1/(4*np.pi*kappa)*exp1(r**2/(4*c*t))"
   ]
  },
  {
   "cell_type": "code",
   "execution_count": 20,
   "id": "96b3bb15-2c7d-497d-9e51-ad9e6ac4fb50",
   "metadata": {},
   "outputs": [],
   "source": [
    "# look for the pressures on L_bottom\n",
    "r_bottom = mesh.geometry.x[mesh.geometry.x[:,1]==0][:,0]\n",
    "p_bottom = p_h.x.array[mesh.geometry.x[:,1]==0]\n",
    "# sort these pressures according to the radial distance from point A \n",
    "index_order = np.argsort(r_bottom)\n",
    "r_numerical = r_bottom[index_order]\n",
    "p_numerical = p_bottom[index_order]"
   ]
  },
  {
   "cell_type": "code",
   "execution_count": 21,
   "id": "3d02242a-87e6-4c89-acd0-8d78e17b209a",
   "metadata": {},
   "outputs": [
    {
     "data": {
      "image/png": "[encoded data removed]",
      "text/plain": [
       "<Figure size 576x432 with 1 Axes>"
      ]
     },
     "metadata": {
      "needs_background": "light"
     },
     "output_type": "display_data"
    }
   ],
   "source": [
    "# plot with matplotlib\n",
    "\n",
    "# x axis for analytical solution\n",
    "x = np.arange(0., 20., 0.01)\n",
    "\n",
    "# plot\n",
    "plt.figure(figsize=(8, 6))\n",
    "plt.plot(x, p_analytical(x, t), 'r-', r_numerical, p_numerical, '*')\n",
    "plt.legend(['Analytical', 'Numerical'], loc='upper right', fontsize = 15)\n",
    "plt.xticks(fontsize=15)\n",
    "plt.yticks(fontsize=15)\n",
    "plt.xlabel('r [m]', fontsize=15)\n",
    "plt.ylabel('Pressure [Pa]', fontsize=15) \n",
    "plt.savefig(\"point_injection.png\", )\n",
    "plt.show()"
   ]
  },
  {
   "cell_type": "code",
   "execution_count": null,
   "id": "40d22ca3-da43-46c8-bd37-8e4ff84cb19e",
   "metadata": {},
   "outputs": [],
   "source": []
  }
 ],
 "metadata": {
  "kernelspec": {
   "display_name": "Python 3 (ipykernel)",
   "language": "python",
   "name": "python3"
  },
  "language_info": {
   "codemirror_mode": {
    "name": "ipython",
    "version": 3
   },
   "file_extension": ".py",
   "mimetype": "text/x-python",
   "name": "python",
   "nbconvert_exporter": "python",
   "pygments_lexer": "ipython3",
   "version": "3.9.7"
  }
 },
 "nbformat": 4,
 "nbformat_minor": 5
}
